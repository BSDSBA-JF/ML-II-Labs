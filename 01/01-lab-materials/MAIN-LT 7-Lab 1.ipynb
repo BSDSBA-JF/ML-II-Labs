{
 "cells": [
  {
   "cell_type": "markdown",
   "id": "2bc5dc1e-d2b3-4576-b6d3-ca3b9aa94496",
   "metadata": {},
   "source": [
    "# Initializing"
   ]
  },
  {
   "cell_type": "code",
   "execution_count": 19,
   "id": "fd3518cd-a3fb-4c2e-b339-4e749d0f236b",
   "metadata": {
    "execution": {
     "iopub.execute_input": "2025-09-13T10:37:26.537447Z",
     "iopub.status.busy": "2025-09-13T10:37:26.535778Z",
     "iopub.status.idle": "2025-09-13T10:37:26.549802Z",
     "shell.execute_reply": "2025-09-13T10:37:26.548218Z",
     "shell.execute_reply.started": "2025-09-13T10:37:26.537369Z"
    }
   },
   "outputs": [],
   "source": [
    "# Core\n",
    "import numpy as np\n",
    "import pandas as pd\n",
    "import matplotlib.pyplot as plt\n",
    "import seaborn as sns\n",
    "\n",
    "# Preprocessing & Pipeline\n",
    "from sklearn.model_selection import train_test_split\n",
    "\n",
    "# Metrics\n",
    "from sklearn.metrics import (\n",
    "    precision_score,\n",
    "    recall_score,\n",
    "    f1_score,\n",
    "    confusion_matrix,\n",
    "    classification_report,\n",
    "    make_scorer\n",
    ")\n",
    "\n",
    "# Base + Models\n",
    "from sklearn.base import BaseEstimator, ClassifierMixin\n",
    "from sklearn.ensemble import RandomForestClassifier\n",
    "from sklearn.utils.validation import check_is_fitted\n",
    "from sklearn.model_selection import StratifiedKFold, cross_validate\n",
    "from sklearn.model_selection import GridSearchCV\n",
    "\n",
    "# Imbalanced learning\n",
    "from imblearn.pipeline import Pipeline\n",
    "from imblearn.base import BaseSampler\n",
    "from imblearn.over_sampling import SMOTE, ADASYN, RandomOverSampler\n",
    "from imblearn.under_sampling import RandomUnderSampler, TomekLinks\n",
    "\n",
    "# Utils\n",
    "from collections import Counter\n",
    "from typing import Optional, Union, Literal, Iterable\n"
   ]
  },
  {
   "cell_type": "markdown",
   "id": "394525a1",
   "metadata": {},
   "source": [
    "# FraudDetector Class\n",
    "A new method ```experiment_fit``` was made for demonstration and experimentation within this notebook. It allows us to easily switch between different class imbalance handling strategies (e.g., SMOTE, RandomUnderSampler, TomekLinks) and apply optional sample weights when fitting the model."
   ]
  },
  {
   "cell_type": "code",
   "execution_count": 20,
   "id": "95b40a74",
   "metadata": {
    "execution": {
     "iopub.execute_input": "2025-09-13T10:37:41.799759Z",
     "iopub.status.busy": "2025-09-13T10:37:41.799024Z",
     "iopub.status.idle": "2025-09-13T10:37:41.827778Z",
     "shell.execute_reply": "2025-09-13T10:37:41.826069Z",
     "shell.execute_reply.started": "2025-09-13T10:37:41.799698Z"
    }
   },
   "outputs": [],
   "source": [
    "class FraudDetector(BaseEstimator, ClassifierMixin):\n",
    "\n",
    "    def __init__(self, random_state: int = 39, n_jobs: Optional[int] = None):\n",
    "        self.random_state = random_state\n",
    "        self.n_jobs = n_jobs\n",
    "        self._model_ = RandomForestClassifier(\n",
    "            n_estimators=500,\n",
    "            n_jobs=self.n_jobs,\n",
    "            random_state=self.random_state,\n",
    "        )\n",
    "\n",
    "    def fit(\n",
    "        self,\n",
    "        X: Union[np.ndarray, pd.DataFrame],\n",
    "        y: Union[np.ndarray, pd.Series],\n",
    "        sample_weight: Optional[Iterable[float]] = None,\n",
    "    ):\n",
    "        \"\"\"\n",
    "        Fit the model using a training X and y.\n",
    "\n",
    "        Parameters:\n",
    "        -----------\n",
    "        X (np.ndarray | pd.DataFrame): The training data\n",
    "        y (np.ndarray | pd.Sereis): The corresponding targets\n",
    "        sample_weight (iterable): Sample class weights (default=None)\n",
    "        \"\"\"\n",
    "\n",
    "        X_balanced, y_balanced = self._handle_imbalance(X, y) # you can modify the parameters here if needed\n",
    "        if sample_weight is None:\n",
    "            self._model_.fit(X_balanced, y_balanced)\n",
    "        else:\n",
    "            self._model_.fit(X_balanced, y_balanced, sample_weight=sample_weight)\n",
    "        return self\n",
    "\n",
    "    def experiment_fit(\n",
    "        self,\n",
    "        X: Union[np.ndarray, pd.DataFrame],\n",
    "        y: Union[np.ndarray, pd.Series],\n",
    "        sample_strategy: Optional[BaseSampler] = None,\n",
    "        sample_weight: Optional[Iterable[float]] = None,\n",
    "    ) -> dict[str, np.ndarray]:\n",
    "        \"\"\"\n",
    "        Fit an imbalanced-learn pipeline on the training data.\n",
    "\n",
    "        This method is designed for experimentation. It allows you to\n",
    "        easily switch between different class imbalance handling\n",
    "        strategies (e.g., SMOTE, RandomUnderSampler) and apply optional\n",
    "        sample weights when fitting the model.\n",
    "\n",
    "        Parameters\n",
    "        ----------\n",
    "        X : np.ndarray | pd.DataFrame\n",
    "            Training data.\n",
    "        y : np.ndarray | pd.Series\n",
    "            Target labels.\n",
    "        sample_strategy : BaseSampler, optional\n",
    "            Resampling strategy (default=None).\n",
    "        sample_weight : iterable, optional\n",
    "            Sample weights for fitting (default=None).\n",
    "\n",
    "        Returns\n",
    "        -------\n",
    "        dict\n",
    "            Contains the key:value pair of str to the mean validation scores\n",
    "        \"\"\"\n",
    "        # Build pipeline\n",
    "        skf = StratifiedKFold(n_splits=5, shuffle=True, random_state=36)\n",
    "    \n",
    "        # Build pipeline\n",
    "        steps = []\n",
    "        if sample_strategy is not None:\n",
    "            steps.append((\"sampler\", sample_strategy))  # e.g., SMOTE(), RandomUnderSampler()\n",
    "        steps.append((\"clf\", self._model_))\n",
    "\n",
    "        pipeline = Pipeline(steps=steps)\n",
    "\n",
    "        # Define the scorers\n",
    "        fcr_scorer = make_scorer(recall_score, pos_label=1)\n",
    "\n",
    "        # Detection: macro recall\n",
    "        detection_scorer = make_scorer(recall_score, average=\"macro\")\n",
    "\n",
    "        scorers = {\n",
    "            \"precision\": make_scorer(precision_score, average=\"macro\", zero_division=0),\n",
    "            \"recall\": make_scorer(recall_score, average=\"macro\", zero_division=0),\n",
    "            \"f1\": make_scorer(f1_score, average=\"macro\", zero_division=0),\n",
    "            \"fcr\": fcr_scorer,\n",
    "            \"detection\": detection_scorer,\n",
    "            \"abs_net_value\": FraudDetector.abs_net_value_scorer,\n",
    "            \"rel_net_value\": FraudDetector.rel_net_value_scorer,\n",
    "        }\n",
    "\n",
    "        # GridSearchCV\n",
    "        if sample_weight is not None:\n",
    "            param_grid = {\n",
    "                \"clf__n_estimators\": [500],\n",
    "                \"clf__class_weight\": ['balanced']\n",
    "            }\n",
    "        else:\n",
    "            param_grid = {\n",
    "                \"clf__n_estimators\": [500],\n",
    "            }\n",
    "            \n",
    "        search = GridSearchCV(\n",
    "            estimator=pipeline,\n",
    "            scoring=scorers,\n",
    "            param_grid=param_grid,\n",
    "            refit=\"fcr\",       \n",
    "            cv=skf,\n",
    "            n_jobs=-1,\n",
    "            verbose=1\n",
    "        )\n",
    "\n",
    "        search.fit(X, y)\n",
    "\n",
    "        return search.cv_results_ \n",
    "\n",
    "\n",
    "    def predict(self, X: Union[np.ndarray, pd.DataFrame]) -> np.ndarray:\n",
    "        \"\"\"Predict the outcome from data X.\"\"\"\n",
    "        check_is_fitted(self, \"_model_\")\n",
    "        return self._model_.predict(X)\n",
    "\n",
    "    def fit_predict(\n",
    "        self, X: Union[np.ndarray, pd.DataFrame], y: Union[np.ndarray, pd.Series]\n",
    "    ) -> np.ndarray:\n",
    "        \"\"\"\n",
    "        Fit the model using a training X and y, and predict the outcome using\n",
    "        X. Note that this would give the predicted labels during training.\n",
    "        \"\"\"\n",
    "        return self.fit(X, y).predict(X)\n",
    "\n",
    "    def _handle_imbalance(self, X, y):\n",
    "        return X, y\n",
    "\n",
    "    #### END MODIFY THIS METHOD\n",
    "\n",
    "    # Helper functions\n",
    "    @staticmethod\n",
    "    def abs_net_value_scorer(estimator, X, y):\n",
    "        # Ensure X is a DataFrame\n",
    "        if not isinstance(X, pd.DataFrame):\n",
    "            X = pd.DataFrame(X)\n",
    "        y_pred = estimator.predict(X)\n",
    "        amount = X.iloc[:, -1]  # last column as transaction value\n",
    "        caught_value = amount[(y == 1) & (y_pred == 1)].sum()\n",
    "        return caught_value\n",
    "    \n",
    "    @staticmethod\n",
    "    def rel_net_value_scorer(estimator, X, y):\n",
    "        # Ensure X is a DataFrame\n",
    "        if not isinstance(X, pd.DataFrame):\n",
    "            X = pd.DataFrame(X)\n",
    "        y_pred = estimator.predict(X)\n",
    "        amount = X.iloc[:, -1]  # last column as transaction value\n",
    "        caught_value = amount[(y == 1) & (y_pred == 1)].sum()\n",
    "        total_fraud = amount[(y == 1)].sum()\n",
    "        return caught_value/ total_fraud if total_fraud != 0 else 0"
   ]
  },
  {
   "cell_type": "markdown",
   "id": "271eb2b7",
   "metadata": {},
   "source": [
    "# EDA"
   ]
  },
  {
   "cell_type": "markdown",
   "id": "2fab10a8",
   "metadata": {},
   "source": [
    "Our overall objectives are:\n",
    "1. To understand why the older methods of thresholding and flagging unusual transaction amounts are no longer effective.\n",
    "2. To improve the prediction of fraudulent transactions.\n",
    "\n",
    "For the first objective, we will examine patterns that differentiate fraudulent transactions from non-fraudulent ones by doing an EDA.\n",
    "For the second objective, we will evaluate different sampling strategies and class weighting while keeping the Random Forest classifier with 500 estimators as a controlled variable. This is because Mara has already established that baseline, and our goal is to build on top of her work.\n"
   ]
  },
  {
   "cell_type": "code",
   "execution_count": 21,
   "id": "8f6527c3-3150-4a9b-adcd-110cce7cd10e",
   "metadata": {
    "execution": {
     "iopub.execute_input": "2025-09-13T10:37:44.657171Z",
     "iopub.status.busy": "2025-09-13T10:37:44.655407Z",
     "iopub.status.idle": "2025-09-13T10:37:46.351662Z",
     "shell.execute_reply": "2025-09-13T10:37:46.351112Z",
     "shell.execute_reply.started": "2025-09-13T10:37:44.657099Z"
    }
   },
   "outputs": [
    {
     "data": {
      "text/html": [
       "<div>\n",
       "<style scoped>\n",
       "    .dataframe tbody tr th:only-of-type {\n",
       "        vertical-align: middle;\n",
       "    }\n",
       "\n",
       "    .dataframe tbody tr th {\n",
       "        vertical-align: top;\n",
       "    }\n",
       "\n",
       "    .dataframe thead th {\n",
       "        text-align: right;\n",
       "    }\n",
       "</style>\n",
       "<table border=\"1\" class=\"dataframe\">\n",
       "  <thead>\n",
       "    <tr style=\"text-align: right;\">\n",
       "      <th></th>\n",
       "      <th>V1</th>\n",
       "      <th>V2</th>\n",
       "      <th>V3</th>\n",
       "      <th>V4</th>\n",
       "      <th>V5</th>\n",
       "      <th>V6</th>\n",
       "      <th>V7</th>\n",
       "      <th>V8</th>\n",
       "      <th>V9</th>\n",
       "      <th>V10</th>\n",
       "      <th>...</th>\n",
       "      <th>V21</th>\n",
       "      <th>V22</th>\n",
       "      <th>V23</th>\n",
       "      <th>V24</th>\n",
       "      <th>V25</th>\n",
       "      <th>V26</th>\n",
       "      <th>V27</th>\n",
       "      <th>V28</th>\n",
       "      <th>Amount</th>\n",
       "      <th>outcome</th>\n",
       "    </tr>\n",
       "  </thead>\n",
       "  <tbody>\n",
       "    <tr>\n",
       "      <th>0</th>\n",
       "      <td>1.423808</td>\n",
       "      <td>-0.377568</td>\n",
       "      <td>0.242070</td>\n",
       "      <td>-0.697073</td>\n",
       "      <td>-0.763104</td>\n",
       "      <td>-0.731960</td>\n",
       "      <td>-0.367360</td>\n",
       "      <td>-0.278617</td>\n",
       "      <td>-0.996840</td>\n",
       "      <td>0.635636</td>\n",
       "      <td>...</td>\n",
       "      <td>-0.469381</td>\n",
       "      <td>-0.810630</td>\n",
       "      <td>0.034175</td>\n",
       "      <td>-0.063592</td>\n",
       "      <td>0.252775</td>\n",
       "      <td>0.975686</td>\n",
       "      <td>-0.047713</td>\n",
       "      <td>0.008093</td>\n",
       "      <td>10.00</td>\n",
       "      <td>0</td>\n",
       "    </tr>\n",
       "    <tr>\n",
       "      <th>1</th>\n",
       "      <td>0.386691</td>\n",
       "      <td>1.932803</td>\n",
       "      <td>-1.958157</td>\n",
       "      <td>1.795148</td>\n",
       "      <td>0.597989</td>\n",
       "      <td>-1.752021</td>\n",
       "      <td>0.567382</td>\n",
       "      <td>0.225227</td>\n",
       "      <td>-0.614899</td>\n",
       "      <td>-1.470780</td>\n",
       "      <td>...</td>\n",
       "      <td>-0.037188</td>\n",
       "      <td>0.066752</td>\n",
       "      <td>0.232243</td>\n",
       "      <td>0.269168</td>\n",
       "      <td>-0.566513</td>\n",
       "      <td>-0.403250</td>\n",
       "      <td>0.151074</td>\n",
       "      <td>-0.044239</td>\n",
       "      <td>3.99</td>\n",
       "      <td>0</td>\n",
       "    </tr>\n",
       "    <tr>\n",
       "      <th>2</th>\n",
       "      <td>-0.822247</td>\n",
       "      <td>1.349695</td>\n",
       "      <td>-2.533342</td>\n",
       "      <td>-1.510371</td>\n",
       "      <td>2.429420</td>\n",
       "      <td>3.097419</td>\n",
       "      <td>-0.337696</td>\n",
       "      <td>1.778629</td>\n",
       "      <td>-0.306968</td>\n",
       "      <td>-0.947894</td>\n",
       "      <td>...</td>\n",
       "      <td>-0.280728</td>\n",
       "      <td>-0.954416</td>\n",
       "      <td>0.226719</td>\n",
       "      <td>0.589009</td>\n",
       "      <td>-0.325611</td>\n",
       "      <td>0.173346</td>\n",
       "      <td>0.110327</td>\n",
       "      <td>-0.006745</td>\n",
       "      <td>14.55</td>\n",
       "      <td>0</td>\n",
       "    </tr>\n",
       "    <tr>\n",
       "      <th>3</th>\n",
       "      <td>-0.679009</td>\n",
       "      <td>0.452323</td>\n",
       "      <td>1.256676</td>\n",
       "      <td>-1.163474</td>\n",
       "      <td>-0.871992</td>\n",
       "      <td>-0.413326</td>\n",
       "      <td>-0.319045</td>\n",
       "      <td>0.414021</td>\n",
       "      <td>-1.479641</td>\n",
       "      <td>0.080683</td>\n",
       "      <td>...</td>\n",
       "      <td>0.171611</td>\n",
       "      <td>0.365879</td>\n",
       "      <td>-0.164711</td>\n",
       "      <td>0.366073</td>\n",
       "      <td>0.089739</td>\n",
       "      <td>-0.314979</td>\n",
       "      <td>-0.185542</td>\n",
       "      <td>-0.032110</td>\n",
       "      <td>10.00</td>\n",
       "      <td>0</td>\n",
       "    </tr>\n",
       "    <tr>\n",
       "      <th>4</th>\n",
       "      <td>1.174152</td>\n",
       "      <td>-0.493073</td>\n",
       "      <td>-0.136508</td>\n",
       "      <td>-1.375827</td>\n",
       "      <td>-0.506841</td>\n",
       "      <td>-0.760343</td>\n",
       "      <td>0.066490</td>\n",
       "      <td>-0.174785</td>\n",
       "      <td>1.165490</td>\n",
       "      <td>-1.054033</td>\n",
       "      <td>...</td>\n",
       "      <td>-0.061790</td>\n",
       "      <td>-0.016600</td>\n",
       "      <td>-0.226672</td>\n",
       "      <td>0.107551</td>\n",
       "      <td>0.738778</td>\n",
       "      <td>-0.010159</td>\n",
       "      <td>-0.008166</td>\n",
       "      <td>0.006128</td>\n",
       "      <td>68.54</td>\n",
       "      <td>0</td>\n",
       "    </tr>\n",
       "  </tbody>\n",
       "</table>\n",
       "<p>5 rows × 30 columns</p>\n",
       "</div>"
      ],
      "text/plain": [
       "         V1        V2        V3        V4        V5        V6        V7  \\\n",
       "0  1.423808 -0.377568  0.242070 -0.697073 -0.763104 -0.731960 -0.367360   \n",
       "1  0.386691  1.932803 -1.958157  1.795148  0.597989 -1.752021  0.567382   \n",
       "2 -0.822247  1.349695 -2.533342 -1.510371  2.429420  3.097419 -0.337696   \n",
       "3 -0.679009  0.452323  1.256676 -1.163474 -0.871992 -0.413326 -0.319045   \n",
       "4  1.174152 -0.493073 -0.136508 -1.375827 -0.506841 -0.760343  0.066490   \n",
       "\n",
       "         V8        V9       V10  ...       V21       V22       V23       V24  \\\n",
       "0 -0.278617 -0.996840  0.635636  ... -0.469381 -0.810630  0.034175 -0.063592   \n",
       "1  0.225227 -0.614899 -1.470780  ... -0.037188  0.066752  0.232243  0.269168   \n",
       "2  1.778629 -0.306968 -0.947894  ... -0.280728 -0.954416  0.226719  0.589009   \n",
       "3  0.414021 -1.479641  0.080683  ...  0.171611  0.365879 -0.164711  0.366073   \n",
       "4 -0.174785  1.165490 -1.054033  ... -0.061790 -0.016600 -0.226672  0.107551   \n",
       "\n",
       "        V25       V26       V27       V28  Amount  outcome  \n",
       "0  0.252775  0.975686 -0.047713  0.008093   10.00        0  \n",
       "1 -0.566513 -0.403250  0.151074 -0.044239    3.99        0  \n",
       "2 -0.325611  0.173346  0.110327 -0.006745   14.55        0  \n",
       "3  0.089739 -0.314979 -0.185542 -0.032110   10.00        0  \n",
       "4  0.738778 -0.010159 -0.008166  0.006128   68.54        0  \n",
       "\n",
       "[5 rows x 30 columns]"
      ]
     },
     "execution_count": 21,
     "metadata": {},
     "output_type": "execute_result"
    }
   ],
   "source": [
    "df = pd.read_csv('historical.csv')\n",
    "\n",
    "# Drop tid because it is just a unique id\n",
    "df = df.drop(columns = ['tid'])\n",
    "\n",
    "df.head()"
   ]
  },
  {
   "cell_type": "markdown",
   "id": "1eedbe9d-07c0-48b3-b381-8af1f9082bd8",
   "metadata": {},
   "source": [
    "## Data Preprocessing"
   ]
  },
  {
   "cell_type": "markdown",
   "id": "5c180bd1",
   "metadata": {},
   "source": [
    "No missing data were found, but duplicate entries were identified and removed. A total of 4,670 duplicates were dropped, leaving 97.4% of the data for analysis."
   ]
  },
  {
   "cell_type": "code",
   "execution_count": 22,
   "id": "9c11f661",
   "metadata": {
    "execution": {
     "iopub.execute_input": "2025-09-13T10:37:47.197755Z",
     "iopub.status.busy": "2025-09-13T10:37:47.197019Z",
     "iopub.status.idle": "2025-09-13T10:37:48.019004Z",
     "shell.execute_reply": "2025-09-13T10:37:48.018488Z",
     "shell.execute_reply.started": "2025-09-13T10:37:47.197695Z"
    }
   },
   "outputs": [
    {
     "name": "stdout",
     "output_type": "stream",
     "text": [
      "Number of missing data points is 0.\n",
      "Number of duplicated data points is 4670.\n"
     ]
    }
   ],
   "source": [
    "print(f'Number of missing data points is {df.isnull().sum().sum()}.')\n",
    "print(f'Number of duplicated data points is {df.duplicated().sum()}.')\n",
    "\n",
    "# Deduplicate the dataframe\n",
    "df = df.drop_duplicates()"
   ]
  },
  {
   "cell_type": "markdown",
   "id": "8a95f29e-2d80-483c-8759-b04425919a4a",
   "metadata": {},
   "source": [
    "## 1. To understand why the older methods of thresholding and flagging unusual transaction amounts are no longer effective"
   ]
  },
  {
   "cell_type": "markdown",
   "id": "b498467f",
   "metadata": {},
   "source": [
    "First, there is relatively little data available on fraudulent transactions, with at most 305 cases recorded in the ```historical.csv``` dataset while having 180,149 non-fraudulent cases. As shown in Figure 1, this results in a pronounced class imbalance between fraudulent and non-fraudulent transactions."
   ]
  },
  {
   "cell_type": "code",
   "execution_count": 23,
   "id": "68178dbd-e23c-403f-9550-70046f9d7a13",
   "metadata": {
    "execution": {
     "iopub.execute_input": "2025-09-13T10:37:49.108525Z",
     "iopub.status.busy": "2025-09-13T10:37:49.107784Z",
     "iopub.status.idle": "2025-09-13T10:37:49.225980Z",
     "shell.execute_reply": "2025-09-13T10:37:49.225408Z",
     "shell.execute_reply.started": "2025-09-13T10:37:49.108463Z"
    }
   },
   "outputs": [
    {
     "data": {
      "image/png": "[encoded data removed]",
      "text/plain": [
       "<Figure size 600x400 with 1 Axes>"
      ]
     },
     "metadata": {},
     "output_type": "display_data"
    }
   ],
   "source": [
    "# Count values\n",
    "class_counts = df[\"outcome\"].value_counts().sort_index()\n",
    "\n",
    "# Plot\n",
    "plt.figure(figsize=(6,4))\n",
    "plt.bar(class_counts.index.astype(str), class_counts.values)\n",
    "plt.title(\"Class Distribution of Outcome\")\n",
    "plt.xlabel(\"Outcome\")\n",
    "plt.ylabel(\"Count\")\n",
    "plt.gca().spines['top'].set_visible(False)\n",
    "plt.gca().spines['right'].set_visible(False)\n",
    "\n",
    "plt.show()\n"
   ]
  },
  {
   "cell_type": "markdown",
   "id": "9b051ffe",
   "metadata": {},
   "source": [
    "Second, the traditional methods of thresholding and flagging unusual transaction amounts are no longer effective because fraudsters have adapted to these rules. As shown in the box plot in Figure 2, the median transaction amount for fraud cases is actually lower than that of non-fraud cases. Furthermore, even the outliers among fraudulent transactions are not as extreme when compared to non-fraudulent ones. While non-fraud transactions can reach values on the order of $10^4$, the highest fraudulent transactions only reach around $10^3$."
   ]
  },
  {
   "cell_type": "code",
   "execution_count": 24,
   "id": "6c2e5ead",
   "metadata": {
    "execution": {
     "iopub.execute_input": "2025-09-13T10:37:50.232315Z",
     "iopub.status.busy": "2025-09-13T10:37:50.230875Z",
     "iopub.status.idle": "2025-09-13T10:37:50.808334Z",
     "shell.execute_reply": "2025-09-13T10:37:50.807845Z",
     "shell.execute_reply.started": "2025-09-13T10:37:50.232223Z"
    }
   },
   "outputs": [
    {
     "data": {
      "image/png": "[encoded data removed]",
      "text/plain": [
       "<Figure size 600x400 with 1 Axes>"
      ]
     },
     "metadata": {},
     "output_type": "display_data"
    }
   ],
   "source": [
    "plt.figure(figsize=(6,4))\n",
    "\n",
    "sns.boxplot(\n",
    "    x=\"outcome\",\n",
    "    y=\"Amount\",\n",
    "    data=df\n",
    ")\n",
    "plt.yscale(\"log\")  # handle skewness\n",
    "plt.title(\"Transaction Amounts by Outcome\")\n",
    "plt.xlabel(\"\")\n",
    "plt.ylabel(\"Amount (log scale)\")\n",
    "plt.xticks([0, 1], ['Non-Fraud', 'Fraud'])\n",
    "plt.gca().spines['top'].set_visible(False)\n",
    "plt.gca().spines['right'].set_visible(False)\n",
    "\n",
    "plt.show()\n"
   ]
  },
  {
   "cell_type": "markdown",
   "id": "e5576160",
   "metadata": {},
   "source": [
    "In contrast to using only transaction amounts, we can also look at the principal components. Figure 3 shows little to no correlation among non-fraudulent transactions while fraudulent transactions display stronger relationships in the heatmap. This suggests that fraud data contains patterns that machine learning can exploit to improve prediction."
   ]
  },
  {
   "cell_type": "code",
   "execution_count": 25,
   "id": "ddd10e6c-efb3-4b1f-86cd-fd8bc21ce966",
   "metadata": {
    "execution": {
     "iopub.execute_input": "2025-09-13T10:37:51.955652Z",
     "iopub.status.busy": "2025-09-13T10:37:51.954900Z",
     "iopub.status.idle": "2025-09-13T10:37:53.446130Z",
     "shell.execute_reply": "2025-09-13T10:37:53.445303Z",
     "shell.execute_reply.started": "2025-09-13T10:37:51.955590Z"
    }
   },
   "outputs": [
    {
     "data": {
      "image/png": "[encoded data removed]",
      "text/plain": [
       "<Figure size 2200x1000 with 4 Axes>"
      ]
     },
     "metadata": {},
     "output_type": "display_data"
    }
   ],
   "source": [
    "# Split datasets\n",
    "is_fraud = df[\"outcome\"] == 1\n",
    "df_0 = df[~is_fraud]\n",
    "df_1 = df[is_fraud]\n",
    "\n",
    "# Compute correlation matrices\n",
    "corr_0 = df_0.iloc[:, :-1].corr()\n",
    "corr_1 = df_1.iloc[:, :-1].corr()\n",
    "\n",
    "# Plot side-by-side heatmaps\n",
    "fig, axes = plt.subplots(1, 2, figsize=(22, 10))\n",
    "\n",
    "sns.heatmap(\n",
    "    corr_0,\n",
    "    cmap=\"coolwarm_r\",\n",
    "    vmax=1,\n",
    "    vmin=-1,\n",
    "    center=0,\n",
    "    annot=False,\n",
    "    cbar=True,\n",
    "    ax=axes[0]\n",
    ")\n",
    "axes[0].set_title(\"Correlation Heatmap of Non-Fraud Transaction\", fontsize=14)\n",
    "\n",
    "sns.heatmap(\n",
    "    corr_1,\n",
    "    cmap=\"coolwarm_r\",\n",
    "    vmax=1,\n",
    "    vmin=-1,\n",
    "    center=0,\n",
    "    annot=False,\n",
    "    cbar=True,\n",
    "    ax=axes[1]\n",
    ")\n",
    "axes[1].set_title(\"Correlation Heatmap of Fraud Transactions\", fontsize=14)\n",
    "\n",
    "plt.tight_layout()\n",
    "plt.show()"
   ]
  },
  {
   "cell_type": "markdown",
   "id": "795d4f89",
   "metadata": {},
   "source": [
    "To further visualize the patterns in fraud data, two scatterplots were made in Figure 4 to show the relationships of V1 to V3 (a) and V18 to V16 (b). These plots further emphasizes how fraud transactions (red) cluster differently from non-fraud ones (blue), suggesting that certain components capture meaningful distinctions between the two classes."
   ]
  },
  {
   "cell_type": "code",
   "execution_count": 26,
   "id": "30a8bafd-bedf-4eec-9a46-820c1847ef4e",
   "metadata": {
    "execution": {
     "iopub.execute_input": "2025-09-13T10:37:54.358650Z",
     "iopub.status.busy": "2025-09-13T10:37:54.357938Z",
     "iopub.status.idle": "2025-09-13T10:38:04.275202Z",
     "shell.execute_reply": "2025-09-13T10:38:04.274302Z",
     "shell.execute_reply.started": "2025-09-13T10:37:54.358590Z"
    }
   },
   "outputs": [
    {
     "data": {
      "image/png": "[encoded data removed]",
      "text/plain": [
       "<Figure size 1200x500 with 2 Axes>"
      ]
     },
     "metadata": {},
     "output_type": "display_data"
    }
   ],
   "source": [
    "plt.figure(figsize=(12, 5))\n",
    "\n",
    "# V1 vs V3\n",
    "plt.subplot(1, 2, 1)\n",
    "ax1 = sns.scatterplot(\n",
    "    data=df,\n",
    "    x=\"V1\", y=\"V3\",\n",
    "    hue=\"outcome\",\n",
    "    alpha=0.6,\n",
    "    palette={0: \"blue\", 1: \"red\"}\n",
    ")\n",
    "legend1 = ax1.legend_\n",
    "legend1.set_title(\"Outcome\")\n",
    "for t, new_label in zip(legend1.texts, [\"Non-Fraud\", \"Fraud\"]):\n",
    "    t.set_text(new_label)\n",
    "plt.title(\"Scatterplot: V1 vs V3\")\n",
    "ax1.set_xlabel('V1\\n(a)')\n",
    "ax1.spines['top'].set_visible(False)\n",
    "ax1.spines['right'].set_visible(False)\n",
    "\n",
    "\n",
    "# V18 vs V16\n",
    "plt.subplot(1, 2, 2)\n",
    "ax2 = sns.scatterplot(\n",
    "    data=df,\n",
    "    x=\"V18\", y=\"V16\",\n",
    "    hue=\"outcome\",\n",
    "    alpha=0.6,\n",
    "    palette={0: \"blue\", 1: \"red\"}\n",
    ")\n",
    "legend2 = ax2.legend_\n",
    "legend2.set_title(\"Outcome\")\n",
    "for t, new_label in zip(legend2.texts, [\"Non-Fraud\", \"Fraud\"]):\n",
    "    t.set_text(new_label)\n",
    "plt.title(\"Scatterplot: V18 vs V16\")\n",
    "ax2.set_xlabel('V18\\n(b)')\n",
    "ax2.spines['top'].set_visible(False)\n",
    "ax2.spines['right'].set_visible(False)\n",
    "\n",
    "plt.tight_layout()\n",
    "plt.show()\n"
   ]
  },
  {
   "cell_type": "markdown",
   "id": "7a36cc96",
   "metadata": {},
   "source": [
    "# 2. To improve the prediction of fraudulent transactions."
   ]
  },
  {
   "cell_type": "markdown",
   "id": "2e6963fa",
   "metadata": {},
   "source": [
    "Let us now define the metrics that we shall use to optimize the model. We have:\n",
    "1. Detection Rate\n",
    "    * This asks, \"Out of all transactions, how well does the model is at correctly identifying both fraud and non-fraud overall, where both are equally important?\"\n",
    "\n",
    "2. Fraud Capture Rate\n",
    "    * This asks, \"Out of all the fraud cases, how many did the model actually catch?\"\n",
    "\n",
    "3. Net Value Gained  - \n",
    "    * This asks, \"How much money does the model helps save (by catching fraud)?\"\n",
    "\n",
    "Because we can only use one metric to optimize the model, we choose the Fraud Capture Rate to optimize since our second objective is to improve the prediction of fraudulent transactions. This metric aligns closely with CreditByte’s business-critical goal of reducing credit card fraud. For additional business context, we also report Net Value Gained to reflect the monetary impact. The technical definitions of all metrics used are provided below.\n",
    "\n",
    "1. **Detection Rate which is the same as Macro Recall**  \n",
    "Detection Rate:  \n",
    "\n",
    "$$\n",
    "\\text{Detection Rate} = \\frac{1}{2} \\bigg(\\frac{TP_{\\text{fraud}}}{TP_{\\text{fraud}} + FN_{\\text{fraud}}} + \\frac{TP_{\\text{nonfraud}}}{TP_{\\text{nonfraud}} + FN_{\\text{nonfraud}}} \\bigg)\n",
    "$$\n",
    "\n",
    "where  \n",
    "- $n_{\\text{fraud}}$ = number of fraud samples  \n",
    "- $n_{\\text{nonfraud}}$ = number of non-fraud samples  \n",
    "- $N$ = total number of samples  \n",
    "- $TP_{\\text{fraud}}$ = fraud cases correctly identified  \n",
    "- $FN_{\\text{fraud}}$ = fraud cases missed  \n",
    "- $TP_{\\text{nonfraud}}$ = non-fraud cases correctly identified  \n",
    "- $FN_{\\text{nonfraud}}$ = non-fraud cases missed  \n",
    "\n",
    "\n",
    "2. **Fraud Capture Rate, which is the same as Recall for Fraud Transactions**  \n",
    "\n",
    "$$\n",
    "\\text{Fraud Capture Rate} = \\frac{TP_{\\text{fraud}}}{TP_{\\text{fraud}} + FN_{\\text{fraud}}}\n",
    "$$  \n",
    "\n",
    "where  \n",
    "- $TP_{\\text{fraud}}$ = fraud cases correctly identified  \n",
    "- $FN_{\\text{fraud}}$ = fraud cases missed  \n",
    "\n",
    "\n",
    "3. **Net Value**  \n",
    "\n",
    "$$\n",
    "\\text{Net Value} = V_{\\text{caught}}\n",
    "$$  \n",
    "\n",
    "where  \n",
    "- $V_{\\text{caught}}$ = total value of fraud correctly detected \n",
    "\n",
    "\n"
   ]
  },
  {
   "cell_type": "markdown",
   "id": "4e7ed98b-52c2-4234-adc5-64bf9ac05821",
   "metadata": {},
   "source": [
    "## Handle Class Imbalance"
   ]
  },
  {
   "cell_type": "code",
   "execution_count": 27,
   "id": "d01d5ced-5a39-4808-b686-e79285c6c483",
   "metadata": {
    "execution": {
     "iopub.execute_input": "2025-09-13T10:38:07.821140Z",
     "iopub.status.busy": "2025-09-13T10:38:07.820398Z",
     "iopub.status.idle": "2025-09-13T10:38:07.964125Z",
     "shell.execute_reply": "2025-09-13T10:38:07.963227Z",
     "shell.execute_reply.started": "2025-09-13T10:38:07.821081Z"
    }
   },
   "outputs": [
    {
     "name": "stdout",
     "output_type": "stream",
     "text": [
      "X_train shape: (144363, 29)\n",
      "X_test shape: (36091, 29)\n",
      "X shape: (180454, 29)\n"
     ]
    }
   ],
   "source": [
    "X, y = df.iloc[:, :-1], df.iloc[:, -1]\n",
    "\n",
    "# Create the training and test (hold-out) sets\n",
    "X_train, X_test, y_train, y_test = train_test_split(\n",
    "    X, y, test_size=0.2, random_state=0, stratify=y\n",
    ")\n",
    "\n",
    "print(f\"X_train shape: {X_train.shape}\")\n",
    "print(f\"X_test shape: {X_test.shape}\")\n",
    "print(f\"X shape: {X.shape}\")"
   ]
  },
  {
   "cell_type": "code",
   "execution_count": 28,
   "id": "6c8292e0",
   "metadata": {
    "execution": {
     "iopub.execute_input": "2025-09-13T10:38:08.514458Z",
     "iopub.status.busy": "2025-09-13T10:38:08.513731Z",
     "iopub.status.idle": "2025-09-13T10:38:08.526259Z",
     "shell.execute_reply": "2025-09-13T10:38:08.524640Z",
     "shell.execute_reply.started": "2025-09-13T10:38:08.514399Z"
    }
   },
   "outputs": [],
   "source": [
    "def see_metrics(result):\n",
    "    # List of metrics\n",
    "    metrics = ['precision', \n",
    "               'recall', \n",
    "               'f1', \n",
    "               'fcr', \n",
    "               'detection', \n",
    "               'abs_net_value', \n",
    "               'rel_net_value']\n",
    "    \n",
    "    formal_metrics = ['(Macro) Precision', \n",
    "                      '(Macro) Recall', \n",
    "                      '(Macro) F1-Score', \n",
    "                      'Fraud Capture Rate', \n",
    "                      'Detection Rate', \n",
    "                      'Absolute Net Value', \n",
    "                      'Relative Net Value']\n",
    "\n",
    "    # Build summary DataFrame\n",
    "    summary_df = pd.DataFrame({\n",
    "        \"Mean\": [result[f\"mean_test_{m}\"][0] for m in metrics],\n",
    "        \"Standard Deviation\": [result[f\"std_test_{m}\"][0] for m in metrics]\n",
    "    }, index=formal_metrics)\n",
    "    return summary_df.round(2)\n"
   ]
  },
  {
   "cell_type": "code",
   "execution_count": 29,
   "id": "711dd83f-d6af-4927-9649-4c37c603ea49",
   "metadata": {
    "execution": {
     "iopub.execute_input": "2025-09-13T10:38:10.284264Z",
     "iopub.status.busy": "2025-09-13T10:38:10.283565Z",
     "iopub.status.idle": "2025-09-13T11:05:00.730813Z",
     "shell.execute_reply": "2025-09-13T11:05:00.729744Z",
     "shell.execute_reply.started": "2025-09-13T10:38:10.284204Z"
    }
   },
   "outputs": [
    {
     "name": "stdout",
     "output_type": "stream",
     "text": [
      "Fitting 5 folds for each of 1 candidates, totalling 5 fits\n"
     ]
    },
    {
     "ename": "KeyboardInterrupt",
     "evalue": "",
     "output_type": "error",
     "traceback": [
      "\u001b[0;31m---------------------------------------------------------------------------\u001b[0m",
      "\u001b[0;31mKeyboardInterrupt\u001b[0m                         Traceback (most recent call last)",
      "Cell \u001b[0;32mIn[29], line 3\u001b[0m\n\u001b[1;32m      1\u001b[0m \u001b[38;5;66;03m# Set a baseline model with no resampling strategies done\u001b[39;00m\n\u001b[1;32m      2\u001b[0m baseline_model \u001b[38;5;241m=\u001b[39m FraudDetector()\n\u001b[0;32m----> 3\u001b[0m baseline_results \u001b[38;5;241m=\u001b[39m \u001b[43mbaseline_model\u001b[49m\u001b[38;5;241;43m.\u001b[39;49m\u001b[43mexperiment_fit\u001b[49m\u001b[43m(\u001b[49m\u001b[43mX_train\u001b[49m\u001b[43m,\u001b[49m\u001b[43m \u001b[49m\u001b[43my_train\u001b[49m\u001b[43m)\u001b[49m\n\u001b[1;32m      4\u001b[0m see_metrics(baseline_results)\n",
      "Cell \u001b[0;32mIn[20], line 114\u001b[0m, in \u001b[0;36mFraudDetector.experiment_fit\u001b[0;34m(self, X, y, sample_strategy, sample_weight)\u001b[0m\n\u001b[1;32m    100\u001b[0m     param_grid \u001b[38;5;241m=\u001b[39m {\n\u001b[1;32m    101\u001b[0m         \u001b[38;5;124m\"\u001b[39m\u001b[38;5;124mclf__n_estimators\u001b[39m\u001b[38;5;124m\"\u001b[39m: [\u001b[38;5;241m500\u001b[39m],\n\u001b[1;32m    102\u001b[0m     }\n\u001b[1;32m    104\u001b[0m search \u001b[38;5;241m=\u001b[39m GridSearchCV(\n\u001b[1;32m    105\u001b[0m     estimator\u001b[38;5;241m=\u001b[39mpipeline,\n\u001b[1;32m    106\u001b[0m     scoring\u001b[38;5;241m=\u001b[39mscorers,\n\u001b[0;32m   (...)\u001b[0m\n\u001b[1;32m    111\u001b[0m     verbose\u001b[38;5;241m=\u001b[39m\u001b[38;5;241m1\u001b[39m\n\u001b[1;32m    112\u001b[0m )\n\u001b[0;32m--> 114\u001b[0m \u001b[43msearch\u001b[49m\u001b[38;5;241;43m.\u001b[39;49m\u001b[43mfit\u001b[49m\u001b[43m(\u001b[49m\u001b[43mX\u001b[49m\u001b[43m,\u001b[49m\u001b[43m \u001b[49m\u001b[43my\u001b[49m\u001b[43m)\u001b[49m\n\u001b[1;32m    116\u001b[0m \u001b[38;5;28;01mreturn\u001b[39;00m search\u001b[38;5;241m.\u001b[39mcv_results_\n",
      "File \u001b[0;32m/Library/Frameworks/Python.framework/Versions/3.11/lib/python3.11/site-packages/sklearn/base.py:1389\u001b[0m, in \u001b[0;36m_fit_context.<locals>.decorator.<locals>.wrapper\u001b[0;34m(estimator, *args, **kwargs)\u001b[0m\n\u001b[1;32m   1382\u001b[0m     estimator\u001b[38;5;241m.\u001b[39m_validate_params()\n\u001b[1;32m   1384\u001b[0m \u001b[38;5;28;01mwith\u001b[39;00m config_context(\n\u001b[1;32m   1385\u001b[0m     skip_parameter_validation\u001b[38;5;241m=\u001b[39m(\n\u001b[1;32m   1386\u001b[0m         prefer_skip_nested_validation \u001b[38;5;129;01mor\u001b[39;00m global_skip_validation\n\u001b[1;32m   1387\u001b[0m     )\n\u001b[1;32m   1388\u001b[0m ):\n\u001b[0;32m-> 1389\u001b[0m     \u001b[38;5;28;01mreturn\u001b[39;00m \u001b[43mfit_method\u001b[49m\u001b[43m(\u001b[49m\u001b[43mestimator\u001b[49m\u001b[43m,\u001b[49m\u001b[43m \u001b[49m\u001b[38;5;241;43m*\u001b[39;49m\u001b[43margs\u001b[49m\u001b[43m,\u001b[49m\u001b[43m \u001b[49m\u001b[38;5;241;43m*\u001b[39;49m\u001b[38;5;241;43m*\u001b[39;49m\u001b[43mkwargs\u001b[49m\u001b[43m)\u001b[49m\n",
      "File \u001b[0;32m/Library/Frameworks/Python.framework/Versions/3.11/lib/python3.11/site-packages/sklearn/model_selection/_search.py:1024\u001b[0m, in \u001b[0;36mBaseSearchCV.fit\u001b[0;34m(self, X, y, **params)\u001b[0m\n\u001b[1;32m   1018\u001b[0m     results \u001b[38;5;241m=\u001b[39m \u001b[38;5;28mself\u001b[39m\u001b[38;5;241m.\u001b[39m_format_results(\n\u001b[1;32m   1019\u001b[0m         all_candidate_params, n_splits, all_out, all_more_results\n\u001b[1;32m   1020\u001b[0m     )\n\u001b[1;32m   1022\u001b[0m     \u001b[38;5;28;01mreturn\u001b[39;00m results\n\u001b[0;32m-> 1024\u001b[0m \u001b[38;5;28;43mself\u001b[39;49m\u001b[38;5;241;43m.\u001b[39;49m\u001b[43m_run_search\u001b[49m\u001b[43m(\u001b[49m\u001b[43mevaluate_candidates\u001b[49m\u001b[43m)\u001b[49m\n\u001b[1;32m   1026\u001b[0m \u001b[38;5;66;03m# multimetric is determined here because in the case of a callable\u001b[39;00m\n\u001b[1;32m   1027\u001b[0m \u001b[38;5;66;03m# self.scoring the return type is only known after calling\u001b[39;00m\n\u001b[1;32m   1028\u001b[0m first_test_score \u001b[38;5;241m=\u001b[39m all_out[\u001b[38;5;241m0\u001b[39m][\u001b[38;5;124m\"\u001b[39m\u001b[38;5;124mtest_scores\u001b[39m\u001b[38;5;124m\"\u001b[39m]\n",
      "File \u001b[0;32m/Library/Frameworks/Python.framework/Versions/3.11/lib/python3.11/site-packages/sklearn/model_selection/_search.py:1571\u001b[0m, in \u001b[0;36mGridSearchCV._run_search\u001b[0;34m(self, evaluate_candidates)\u001b[0m\n\u001b[1;32m   1569\u001b[0m \u001b[38;5;28;01mdef\u001b[39;00m \u001b[38;5;21m_run_search\u001b[39m(\u001b[38;5;28mself\u001b[39m, evaluate_candidates):\n\u001b[1;32m   1570\u001b[0m \u001b[38;5;250m    \u001b[39m\u001b[38;5;124;03m\"\"\"Search all candidates in param_grid\"\"\"\u001b[39;00m\n\u001b[0;32m-> 1571\u001b[0m     \u001b[43mevaluate_candidates\u001b[49m\u001b[43m(\u001b[49m\u001b[43mParameterGrid\u001b[49m\u001b[43m(\u001b[49m\u001b[38;5;28;43mself\u001b[39;49m\u001b[38;5;241;43m.\u001b[39;49m\u001b[43mparam_grid\u001b[49m\u001b[43m)\u001b[49m\u001b[43m)\u001b[49m\n",
      "File \u001b[0;32m/Library/Frameworks/Python.framework/Versions/3.11/lib/python3.11/site-packages/sklearn/model_selection/_search.py:970\u001b[0m, in \u001b[0;36mBaseSearchCV.fit.<locals>.evaluate_candidates\u001b[0;34m(candidate_params, cv, more_results)\u001b[0m\n\u001b[1;32m    962\u001b[0m \u001b[38;5;28;01mif\u001b[39;00m \u001b[38;5;28mself\u001b[39m\u001b[38;5;241m.\u001b[39mverbose \u001b[38;5;241m>\u001b[39m \u001b[38;5;241m0\u001b[39m:\n\u001b[1;32m    963\u001b[0m     \u001b[38;5;28mprint\u001b[39m(\n\u001b[1;32m    964\u001b[0m         \u001b[38;5;124m\"\u001b[39m\u001b[38;5;124mFitting \u001b[39m\u001b[38;5;132;01m{0}\u001b[39;00m\u001b[38;5;124m folds for each of \u001b[39m\u001b[38;5;132;01m{1}\u001b[39;00m\u001b[38;5;124m candidates,\u001b[39m\u001b[38;5;124m\"\u001b[39m\n\u001b[1;32m    965\u001b[0m         \u001b[38;5;124m\"\u001b[39m\u001b[38;5;124m totalling \u001b[39m\u001b[38;5;132;01m{2}\u001b[39;00m\u001b[38;5;124m fits\u001b[39m\u001b[38;5;124m\"\u001b[39m\u001b[38;5;241m.\u001b[39mformat(\n\u001b[1;32m    966\u001b[0m             n_splits, n_candidates, n_candidates \u001b[38;5;241m*\u001b[39m n_splits\n\u001b[1;32m    967\u001b[0m         )\n\u001b[1;32m    968\u001b[0m     )\n\u001b[0;32m--> 970\u001b[0m out \u001b[38;5;241m=\u001b[39m \u001b[43mparallel\u001b[49m\u001b[43m(\u001b[49m\n\u001b[1;32m    971\u001b[0m \u001b[43m    \u001b[49m\u001b[43mdelayed\u001b[49m\u001b[43m(\u001b[49m\u001b[43m_fit_and_score\u001b[49m\u001b[43m)\u001b[49m\u001b[43m(\u001b[49m\n\u001b[1;32m    972\u001b[0m \u001b[43m        \u001b[49m\u001b[43mclone\u001b[49m\u001b[43m(\u001b[49m\u001b[43mbase_estimator\u001b[49m\u001b[43m)\u001b[49m\u001b[43m,\u001b[49m\n\u001b[1;32m    973\u001b[0m \u001b[43m        \u001b[49m\u001b[43mX\u001b[49m\u001b[43m,\u001b[49m\n\u001b[1;32m    974\u001b[0m \u001b[43m        \u001b[49m\u001b[43my\u001b[49m\u001b[43m,\u001b[49m\n\u001b[1;32m    975\u001b[0m \u001b[43m        \u001b[49m\u001b[43mtrain\u001b[49m\u001b[38;5;241;43m=\u001b[39;49m\u001b[43mtrain\u001b[49m\u001b[43m,\u001b[49m\n\u001b[1;32m    976\u001b[0m \u001b[43m        \u001b[49m\u001b[43mtest\u001b[49m\u001b[38;5;241;43m=\u001b[39;49m\u001b[43mtest\u001b[49m\u001b[43m,\u001b[49m\n\u001b[1;32m    977\u001b[0m \u001b[43m        \u001b[49m\u001b[43mparameters\u001b[49m\u001b[38;5;241;43m=\u001b[39;49m\u001b[43mparameters\u001b[49m\u001b[43m,\u001b[49m\n\u001b[1;32m    978\u001b[0m \u001b[43m        \u001b[49m\u001b[43msplit_progress\u001b[49m\u001b[38;5;241;43m=\u001b[39;49m\u001b[43m(\u001b[49m\u001b[43msplit_idx\u001b[49m\u001b[43m,\u001b[49m\u001b[43m \u001b[49m\u001b[43mn_splits\u001b[49m\u001b[43m)\u001b[49m\u001b[43m,\u001b[49m\n\u001b[1;32m    979\u001b[0m \u001b[43m        \u001b[49m\u001b[43mcandidate_progress\u001b[49m\u001b[38;5;241;43m=\u001b[39;49m\u001b[43m(\u001b[49m\u001b[43mcand_idx\u001b[49m\u001b[43m,\u001b[49m\u001b[43m \u001b[49m\u001b[43mn_candidates\u001b[49m\u001b[43m)\u001b[49m\u001b[43m,\u001b[49m\n\u001b[1;32m    980\u001b[0m \u001b[43m        \u001b[49m\u001b[38;5;241;43m*\u001b[39;49m\u001b[38;5;241;43m*\u001b[39;49m\u001b[43mfit_and_score_kwargs\u001b[49m\u001b[43m,\u001b[49m\n\u001b[1;32m    981\u001b[0m \u001b[43m    \u001b[49m\u001b[43m)\u001b[49m\n\u001b[1;32m    982\u001b[0m \u001b[43m    \u001b[49m\u001b[38;5;28;43;01mfor\u001b[39;49;00m\u001b[43m \u001b[49m\u001b[43m(\u001b[49m\u001b[43mcand_idx\u001b[49m\u001b[43m,\u001b[49m\u001b[43m \u001b[49m\u001b[43mparameters\u001b[49m\u001b[43m)\u001b[49m\u001b[43m,\u001b[49m\u001b[43m \u001b[49m\u001b[43m(\u001b[49m\u001b[43msplit_idx\u001b[49m\u001b[43m,\u001b[49m\u001b[43m \u001b[49m\u001b[43m(\u001b[49m\u001b[43mtrain\u001b[49m\u001b[43m,\u001b[49m\u001b[43m \u001b[49m\u001b[43mtest\u001b[49m\u001b[43m)\u001b[49m\u001b[43m)\u001b[49m\u001b[43m \u001b[49m\u001b[38;5;129;43;01min\u001b[39;49;00m\u001b[43m \u001b[49m\u001b[43mproduct\u001b[49m\u001b[43m(\u001b[49m\n\u001b[1;32m    983\u001b[0m \u001b[43m        \u001b[49m\u001b[38;5;28;43menumerate\u001b[39;49m\u001b[43m(\u001b[49m\u001b[43mcandidate_params\u001b[49m\u001b[43m)\u001b[49m\u001b[43m,\u001b[49m\n\u001b[1;32m    984\u001b[0m \u001b[43m        \u001b[49m\u001b[38;5;28;43menumerate\u001b[39;49m\u001b[43m(\u001b[49m\u001b[43mcv\u001b[49m\u001b[38;5;241;43m.\u001b[39;49m\u001b[43msplit\u001b[49m\u001b[43m(\u001b[49m\u001b[43mX\u001b[49m\u001b[43m,\u001b[49m\u001b[43m \u001b[49m\u001b[43my\u001b[49m\u001b[43m,\u001b[49m\u001b[43m \u001b[49m\u001b[38;5;241;43m*\u001b[39;49m\u001b[38;5;241;43m*\u001b[39;49m\u001b[43mrouted_params\u001b[49m\u001b[38;5;241;43m.\u001b[39;49m\u001b[43msplitter\u001b[49m\u001b[38;5;241;43m.\u001b[39;49m\u001b[43msplit\u001b[49m\u001b[43m)\u001b[49m\u001b[43m)\u001b[49m\u001b[43m,\u001b[49m\n\u001b[1;32m    985\u001b[0m \u001b[43m    \u001b[49m\u001b[43m)\u001b[49m\n\u001b[1;32m    986\u001b[0m \u001b[43m\u001b[49m\u001b[43m)\u001b[49m\n\u001b[1;32m    988\u001b[0m \u001b[38;5;28;01mif\u001b[39;00m \u001b[38;5;28mlen\u001b[39m(out) \u001b[38;5;241m<\u001b[39m \u001b[38;5;241m1\u001b[39m:\n\u001b[1;32m    989\u001b[0m     \u001b[38;5;28;01mraise\u001b[39;00m \u001b[38;5;167;01mValueError\u001b[39;00m(\n\u001b[1;32m    990\u001b[0m         \u001b[38;5;124m\"\u001b[39m\u001b[38;5;124mNo fits were performed. \u001b[39m\u001b[38;5;124m\"\u001b[39m\n\u001b[1;32m    991\u001b[0m         \u001b[38;5;124m\"\u001b[39m\u001b[38;5;124mWas the CV iterator empty? \u001b[39m\u001b[38;5;124m\"\u001b[39m\n\u001b[1;32m    992\u001b[0m         \u001b[38;5;124m\"\u001b[39m\u001b[38;5;124mWere there no candidates?\u001b[39m\u001b[38;5;124m\"\u001b[39m\n\u001b[1;32m    993\u001b[0m     )\n",
      "File \u001b[0;32m/Library/Frameworks/Python.framework/Versions/3.11/lib/python3.11/site-packages/sklearn/utils/parallel.py:77\u001b[0m, in \u001b[0;36mParallel.__call__\u001b[0;34m(self, iterable)\u001b[0m\n\u001b[1;32m     72\u001b[0m config \u001b[38;5;241m=\u001b[39m get_config()\n\u001b[1;32m     73\u001b[0m iterable_with_config \u001b[38;5;241m=\u001b[39m (\n\u001b[1;32m     74\u001b[0m     (_with_config(delayed_func, config), args, kwargs)\n\u001b[1;32m     75\u001b[0m     \u001b[38;5;28;01mfor\u001b[39;00m delayed_func, args, kwargs \u001b[38;5;129;01min\u001b[39;00m iterable\n\u001b[1;32m     76\u001b[0m )\n\u001b[0;32m---> 77\u001b[0m \u001b[38;5;28;01mreturn\u001b[39;00m \u001b[38;5;28;43msuper\u001b[39;49m\u001b[43m(\u001b[49m\u001b[43m)\u001b[49m\u001b[38;5;241;43m.\u001b[39;49m\u001b[38;5;21;43m__call__\u001b[39;49m\u001b[43m(\u001b[49m\u001b[43miterable_with_config\u001b[49m\u001b[43m)\u001b[49m\n",
      "File \u001b[0;32m/Library/Frameworks/Python.framework/Versions/3.11/lib/python3.11/site-packages/joblib/parallel.py:2007\u001b[0m, in \u001b[0;36mParallel.__call__\u001b[0;34m(self, iterable)\u001b[0m\n\u001b[1;32m   2001\u001b[0m \u001b[38;5;66;03m# The first item from the output is blank, but it makes the interpreter\u001b[39;00m\n\u001b[1;32m   2002\u001b[0m \u001b[38;5;66;03m# progress until it enters the Try/Except block of the generator and\u001b[39;00m\n\u001b[1;32m   2003\u001b[0m \u001b[38;5;66;03m# reaches the first `yield` statement. This starts the asynchronous\u001b[39;00m\n\u001b[1;32m   2004\u001b[0m \u001b[38;5;66;03m# dispatch of the tasks to the workers.\u001b[39;00m\n\u001b[1;32m   2005\u001b[0m \u001b[38;5;28mnext\u001b[39m(output)\n\u001b[0;32m-> 2007\u001b[0m \u001b[38;5;28;01mreturn\u001b[39;00m output \u001b[38;5;28;01mif\u001b[39;00m \u001b[38;5;28mself\u001b[39m\u001b[38;5;241m.\u001b[39mreturn_generator \u001b[38;5;28;01melse\u001b[39;00m \u001b[38;5;28mlist\u001b[39m(output)\n",
      "File \u001b[0;32m/Library/Frameworks/Python.framework/Versions/3.11/lib/python3.11/site-packages/joblib/parallel.py:1650\u001b[0m, in \u001b[0;36mParallel._get_outputs\u001b[0;34m(self, iterator, pre_dispatch)\u001b[0m\n\u001b[1;32m   1647\u001b[0m     \u001b[38;5;28;01myield\u001b[39;00m\n\u001b[1;32m   1649\u001b[0m     \u001b[38;5;28;01mwith\u001b[39;00m \u001b[38;5;28mself\u001b[39m\u001b[38;5;241m.\u001b[39m_backend\u001b[38;5;241m.\u001b[39mretrieval_context():\n\u001b[0;32m-> 1650\u001b[0m         \u001b[38;5;28;01myield from\u001b[39;00m \u001b[38;5;28mself\u001b[39m\u001b[38;5;241m.\u001b[39m_retrieve()\n\u001b[1;32m   1652\u001b[0m \u001b[38;5;28;01mexcept\u001b[39;00m \u001b[38;5;167;01mGeneratorExit\u001b[39;00m:\n\u001b[1;32m   1653\u001b[0m     \u001b[38;5;66;03m# The generator has been garbage collected before being fully\u001b[39;00m\n\u001b[1;32m   1654\u001b[0m     \u001b[38;5;66;03m# consumed. This aborts the remaining tasks if possible and warn\u001b[39;00m\n\u001b[1;32m   1655\u001b[0m     \u001b[38;5;66;03m# the user if necessary.\u001b[39;00m\n\u001b[1;32m   1656\u001b[0m     \u001b[38;5;28mself\u001b[39m\u001b[38;5;241m.\u001b[39m_exception \u001b[38;5;241m=\u001b[39m \u001b[38;5;28;01mTrue\u001b[39;00m\n",
      "File \u001b[0;32m/Library/Frameworks/Python.framework/Versions/3.11/lib/python3.11/site-packages/joblib/parallel.py:1762\u001b[0m, in \u001b[0;36mParallel._retrieve\u001b[0;34m(self)\u001b[0m\n\u001b[1;32m   1757\u001b[0m \u001b[38;5;66;03m# If the next job is not ready for retrieval yet, we just wait for\u001b[39;00m\n\u001b[1;32m   1758\u001b[0m \u001b[38;5;66;03m# async callbacks to progress.\u001b[39;00m\n\u001b[1;32m   1759\u001b[0m \u001b[38;5;28;01mif\u001b[39;00m ((\u001b[38;5;28mlen\u001b[39m(\u001b[38;5;28mself\u001b[39m\u001b[38;5;241m.\u001b[39m_jobs) \u001b[38;5;241m==\u001b[39m \u001b[38;5;241m0\u001b[39m) \u001b[38;5;129;01mor\u001b[39;00m\n\u001b[1;32m   1760\u001b[0m     (\u001b[38;5;28mself\u001b[39m\u001b[38;5;241m.\u001b[39m_jobs[\u001b[38;5;241m0\u001b[39m]\u001b[38;5;241m.\u001b[39mget_status(\n\u001b[1;32m   1761\u001b[0m         timeout\u001b[38;5;241m=\u001b[39m\u001b[38;5;28mself\u001b[39m\u001b[38;5;241m.\u001b[39mtimeout) \u001b[38;5;241m==\u001b[39m TASK_PENDING)):\n\u001b[0;32m-> 1762\u001b[0m     time\u001b[38;5;241m.\u001b[39msleep(\u001b[38;5;241m0.01\u001b[39m)\n\u001b[1;32m   1763\u001b[0m     \u001b[38;5;28;01mcontinue\u001b[39;00m\n\u001b[1;32m   1765\u001b[0m \u001b[38;5;66;03m# We need to be careful: the job list can be filling up as\u001b[39;00m\n\u001b[1;32m   1766\u001b[0m \u001b[38;5;66;03m# we empty it and Python list are not thread-safe by\u001b[39;00m\n\u001b[1;32m   1767\u001b[0m \u001b[38;5;66;03m# default hence the use of the lock\u001b[39;00m\n",
      "\u001b[0;31mKeyboardInterrupt\u001b[0m: "
     ]
    }
   ],
   "source": [
    "# Set a baseline model with no resampling strategies done\n",
    "baseline_model = FraudDetector()\n",
    "baseline_results = baseline_model.experiment_fit(X_train, y_train)\n",
    "see_metrics(baseline_results)"
   ]
  },
  {
   "cell_type": "markdown",
   "id": "8aeda8cd-1053-439f-8e04-706b86d668f2",
   "metadata": {},
   "source": [
    "# Handle Class Imbalance"
   ]
  },
  {
   "cell_type": "markdown",
   "id": "926d4ff8",
   "metadata": {},
   "source": [
    "We will begin by examining five primary approaches to handling class imbalance: random undersampling, random oversampling, SMOTE, ADASYN, and Tomek Links. Afterward, we will also test the use of class weights. Finally, we will select the most effective method among the five and explore a hybrid approach that combines a resampling strategy with class weighting."
   ]
  },
  {
   "cell_type": "markdown",
   "id": "c35f9d27",
   "metadata": {},
   "source": [
    "### a. Five Primary Approaches"
   ]
  },
  {
   "cell_type": "code",
   "execution_count": null,
   "id": "2d91d6c0",
   "metadata": {
    "execution": {
     "iopub.execute_input": "2025-09-13T11:05:00.732619Z",
     "iopub.status.busy": "2025-09-13T11:05:00.732319Z",
     "iopub.status.idle": "2025-09-13T11:05:10.084653Z",
     "shell.execute_reply": "2025-09-13T11:05:10.083768Z",
     "shell.execute_reply.started": "2025-09-13T11:05:00.732599Z"
    }
   },
   "outputs": [
    {
     "name": "stdout",
     "output_type": "stream",
     "text": [
      "Fitting 5 folds for each of 1 candidates, totalling 5 fits\n"
     ]
    },
    {
     "data": {
      "text/html": [
       "<div>\n",
       "<style scoped>\n",
       "    .dataframe tbody tr th:only-of-type {\n",
       "        vertical-align: middle;\n",
       "    }\n",
       "\n",
       "    .dataframe tbody tr th {\n",
       "        vertical-align: top;\n",
       "    }\n",
       "\n",
       "    .dataframe thead th {\n",
       "        text-align: right;\n",
       "    }\n",
       "</style>\n",
       "<table border=\"1\" class=\"dataframe\">\n",
       "  <thead>\n",
       "    <tr style=\"text-align: right;\">\n",
       "      <th></th>\n",
       "      <th>Mean</th>\n",
       "      <th>Standard Deviation</th>\n",
       "    </tr>\n",
       "  </thead>\n",
       "  <tbody>\n",
       "    <tr>\n",
       "      <th>(Macro) Precision</th>\n",
       "      <td>0.53</td>\n",
       "      <td>0.00</td>\n",
       "    </tr>\n",
       "    <tr>\n",
       "      <th>(Macro) Recall</th>\n",
       "      <td>0.93</td>\n",
       "      <td>0.01</td>\n",
       "    </tr>\n",
       "    <tr>\n",
       "      <th>(Macro) F1-Score</th>\n",
       "      <td>0.54</td>\n",
       "      <td>0.01</td>\n",
       "    </tr>\n",
       "    <tr>\n",
       "      <th>Fraud Capture Rate</th>\n",
       "      <td>0.89</td>\n",
       "      <td>0.02</td>\n",
       "    </tr>\n",
       "    <tr>\n",
       "      <th>Detection Rate</th>\n",
       "      <td>0.93</td>\n",
       "      <td>0.01</td>\n",
       "    </tr>\n",
       "    <tr>\n",
       "      <th>Absolute Net Value</th>\n",
       "      <td>4532.35</td>\n",
       "      <td>1066.38</td>\n",
       "    </tr>\n",
       "    <tr>\n",
       "      <th>Relative Net Value</th>\n",
       "      <td>0.82</td>\n",
       "      <td>0.20</td>\n",
       "    </tr>\n",
       "  </tbody>\n",
       "</table>\n",
       "</div>"
      ],
      "text/plain": [
       "                       Mean  Standard Deviation\n",
       "(Macro) Precision      0.53                0.00\n",
       "(Macro) Recall         0.93                0.01\n",
       "(Macro) F1-Score       0.54                0.01\n",
       "Fraud Capture Rate     0.89                0.02\n",
       "Detection Rate         0.93                0.01\n",
       "Absolute Net Value  4532.35             1066.38\n",
       "Relative Net Value     0.82                0.20"
      ]
     },
     "execution_count": 38,
     "metadata": {},
     "output_type": "execute_result"
    }
   ],
   "source": [
    "# Check for each possible way to handle class imbalances\n",
    "random_seed = 92\n",
    "rus = RandomUnderSampler(random_state=random_seed)\n",
    "rus_model = FraudDetector().experiment_fit(X_train, y_train, sample_strategy=rus)\n",
    "see_metrics(rus_model)"
   ]
  },
  {
   "cell_type": "code",
   "execution_count": null,
   "id": "95947066",
   "metadata": {},
   "outputs": [],
   "source": [
    "# For Oversampling\n",
    "ros = RandomOverSampler(random_state=random_seed)\n",
    "ros_model = FraudDetector().experiment_fit(X_train, y_train, sample_strategy=ros)\n",
    "see_metrics(ros_model)"
   ]
  },
  {
   "cell_type": "code",
   "execution_count": null,
   "id": "3414c27b",
   "metadata": {
    "execution": {
     "iopub.execute_input": "2025-09-13T11:05:10.085597Z",
     "iopub.status.busy": "2025-09-13T11:05:10.085372Z",
     "iopub.status.idle": "2025-09-13T11:55:57.406786Z",
     "shell.execute_reply": "2025-09-13T11:55:57.405803Z",
     "shell.execute_reply.started": "2025-09-13T11:05:10.085575Z"
    }
   },
   "outputs": [
    {
     "name": "stdout",
     "output_type": "stream",
     "text": [
      "Fitting 5 folds for each of 1 candidates, totalling 5 fits\n"
     ]
    },
    {
     "data": {
      "text/html": [
       "<div>\n",
       "<style scoped>\n",
       "    .dataframe tbody tr th:only-of-type {\n",
       "        vertical-align: middle;\n",
       "    }\n",
       "\n",
       "    .dataframe tbody tr th {\n",
       "        vertical-align: top;\n",
       "    }\n",
       "\n",
       "    .dataframe thead th {\n",
       "        text-align: right;\n",
       "    }\n",
       "</style>\n",
       "<table border=\"1\" class=\"dataframe\">\n",
       "  <thead>\n",
       "    <tr style=\"text-align: right;\">\n",
       "      <th></th>\n",
       "      <th>Mean</th>\n",
       "      <th>Standard Deviation</th>\n",
       "    </tr>\n",
       "  </thead>\n",
       "  <tbody>\n",
       "    <tr>\n",
       "      <th>(Macro) Precision</th>\n",
       "      <td>0.94</td>\n",
       "      <td>0.02</td>\n",
       "    </tr>\n",
       "    <tr>\n",
       "      <th>(Macro) Recall</th>\n",
       "      <td>0.91</td>\n",
       "      <td>0.04</td>\n",
       "    </tr>\n",
       "    <tr>\n",
       "      <th>(Macro) F1-Score</th>\n",
       "      <td>0.92</td>\n",
       "      <td>0.02</td>\n",
       "    </tr>\n",
       "    <tr>\n",
       "      <th>Fraud Capture Rate</th>\n",
       "      <td>0.81</td>\n",
       "      <td>0.07</td>\n",
       "    </tr>\n",
       "    <tr>\n",
       "      <th>Detection Rate</th>\n",
       "      <td>0.91</td>\n",
       "      <td>0.04</td>\n",
       "    </tr>\n",
       "    <tr>\n",
       "      <th>Absolute Net Value</th>\n",
       "      <td>4039.28</td>\n",
       "      <td>819.13</td>\n",
       "    </tr>\n",
       "    <tr>\n",
       "      <th>Relative Net Value</th>\n",
       "      <td>0.74</td>\n",
       "      <td>0.19</td>\n",
       "    </tr>\n",
       "  </tbody>\n",
       "</table>\n",
       "</div>"
      ],
      "text/plain": [
       "                       Mean  Standard Deviation\n",
       "(Macro) Precision      0.94                0.02\n",
       "(Macro) Recall         0.91                0.04\n",
       "(Macro) F1-Score       0.92                0.02\n",
       "Fraud Capture Rate     0.81                0.07\n",
       "Detection Rate         0.91                0.04\n",
       "Absolute Net Value  4039.28              819.13\n",
       "Relative Net Value     0.74                0.19"
      ]
     },
     "execution_count": 39,
     "metadata": {},
     "output_type": "execute_result"
    }
   ],
   "source": [
    "# For SMOTE\n",
    "smote = SMOTE(random_state=random_seed)\n",
    "smote_model = FraudDetector().experiment_fit(X_train, y_train, sample_strategy=smote)\n",
    "see_metrics(smote_model)"
   ]
  },
  {
   "cell_type": "code",
   "execution_count": null,
   "id": "6190724b",
   "metadata": {
    "execution": {
     "iopub.execute_input": "2025-09-13T11:55:57.408661Z",
     "iopub.status.busy": "2025-09-13T11:55:57.408403Z",
     "iopub.status.idle": "2025-09-13T12:48:24.361212Z",
     "shell.execute_reply": "2025-09-13T12:48:24.360166Z",
     "shell.execute_reply.started": "2025-09-13T11:55:57.408641Z"
    }
   },
   "outputs": [
    {
     "name": "stdout",
     "output_type": "stream",
     "text": [
      "Fitting 5 folds for each of 1 candidates, totalling 5 fits\n"
     ]
    },
    {
     "data": {
      "text/html": [
       "<div>\n",
       "<style scoped>\n",
       "    .dataframe tbody tr th:only-of-type {\n",
       "        vertical-align: middle;\n",
       "    }\n",
       "\n",
       "    .dataframe tbody tr th {\n",
       "        vertical-align: top;\n",
       "    }\n",
       "\n",
       "    .dataframe thead th {\n",
       "        text-align: right;\n",
       "    }\n",
       "</style>\n",
       "<table border=\"1\" class=\"dataframe\">\n",
       "  <thead>\n",
       "    <tr style=\"text-align: right;\">\n",
       "      <th></th>\n",
       "      <th>Mean</th>\n",
       "      <th>Standard Deviation</th>\n",
       "    </tr>\n",
       "  </thead>\n",
       "  <tbody>\n",
       "    <tr>\n",
       "      <th>(Macro) Precision</th>\n",
       "      <td>0.93</td>\n",
       "      <td>0.02</td>\n",
       "    </tr>\n",
       "    <tr>\n",
       "      <th>(Macro) Recall</th>\n",
       "      <td>0.90</td>\n",
       "      <td>0.04</td>\n",
       "    </tr>\n",
       "    <tr>\n",
       "      <th>(Macro) F1-Score</th>\n",
       "      <td>0.91</td>\n",
       "      <td>0.02</td>\n",
       "    </tr>\n",
       "    <tr>\n",
       "      <th>Fraud Capture Rate</th>\n",
       "      <td>0.80</td>\n",
       "      <td>0.08</td>\n",
       "    </tr>\n",
       "    <tr>\n",
       "      <th>Detection Rate</th>\n",
       "      <td>0.90</td>\n",
       "      <td>0.04</td>\n",
       "    </tr>\n",
       "    <tr>\n",
       "      <th>Absolute Net Value</th>\n",
       "      <td>4039.23</td>\n",
       "      <td>819.00</td>\n",
       "    </tr>\n",
       "    <tr>\n",
       "      <th>Relative Net Value</th>\n",
       "      <td>0.74</td>\n",
       "      <td>0.19</td>\n",
       "    </tr>\n",
       "  </tbody>\n",
       "</table>\n",
       "</div>"
      ],
      "text/plain": [
       "                       Mean  Standard Deviation\n",
       "(Macro) Precision      0.93                0.02\n",
       "(Macro) Recall         0.90                0.04\n",
       "(Macro) F1-Score       0.91                0.02\n",
       "Fraud Capture Rate     0.80                0.08\n",
       "Detection Rate         0.90                0.04\n",
       "Absolute Net Value  4039.23              819.00\n",
       "Relative Net Value     0.74                0.19"
      ]
     },
     "execution_count": 40,
     "metadata": {},
     "output_type": "execute_result"
    }
   ],
   "source": [
    "# For ADASYN\n",
    "adasyn = ADASYN(random_state=random_seed, n_neighbors=5, sampling_strategy=\"minority\")\n",
    "adasyn_model = FraudDetector().experiment_fit(X_train, y_train, sample_strategy=adasyn)\n",
    "see_metrics(adasyn_model)"
   ]
  },
  {
   "cell_type": "code",
   "execution_count": null,
   "id": "71d5bd8e",
   "metadata": {
    "execution": {
     "iopub.execute_input": "2025-09-13T12:48:24.362513Z",
     "iopub.status.busy": "2025-09-13T12:48:24.362243Z",
     "iopub.status.idle": "2025-09-13T13:20:25.377374Z",
     "shell.execute_reply": "2025-09-13T13:20:25.376134Z",
     "shell.execute_reply.started": "2025-09-13T12:48:24.362487Z"
    }
   },
   "outputs": [
    {
     "name": "stdout",
     "output_type": "stream",
     "text": [
      "Fitting 5 folds for each of 1 candidates, totalling 5 fits\n"
     ]
    },
    {
     "data": {
      "text/html": [
       "<div>\n",
       "<style scoped>\n",
       "    .dataframe tbody tr th:only-of-type {\n",
       "        vertical-align: middle;\n",
       "    }\n",
       "\n",
       "    .dataframe tbody tr th {\n",
       "        vertical-align: top;\n",
       "    }\n",
       "\n",
       "    .dataframe thead th {\n",
       "        text-align: right;\n",
       "    }\n",
       "</style>\n",
       "<table border=\"1\" class=\"dataframe\">\n",
       "  <thead>\n",
       "    <tr style=\"text-align: right;\">\n",
       "      <th></th>\n",
       "      <th>Mean</th>\n",
       "      <th>Standard Deviation</th>\n",
       "    </tr>\n",
       "  </thead>\n",
       "  <tbody>\n",
       "    <tr>\n",
       "      <th>(Macro) Precision</th>\n",
       "      <td>0.96</td>\n",
       "      <td>0.03</td>\n",
       "    </tr>\n",
       "    <tr>\n",
       "      <th>(Macro) Recall</th>\n",
       "      <td>0.88</td>\n",
       "      <td>0.05</td>\n",
       "    </tr>\n",
       "    <tr>\n",
       "      <th>(Macro) F1-Score</th>\n",
       "      <td>0.91</td>\n",
       "      <td>0.02</td>\n",
       "    </tr>\n",
       "    <tr>\n",
       "      <th>Fraud Capture Rate</th>\n",
       "      <td>0.75</td>\n",
       "      <td>0.09</td>\n",
       "    </tr>\n",
       "    <tr>\n",
       "      <th>Detection Rate</th>\n",
       "      <td>0.88</td>\n",
       "      <td>0.05</td>\n",
       "    </tr>\n",
       "    <tr>\n",
       "      <th>Absolute Net Value</th>\n",
       "      <td>3523.65</td>\n",
       "      <td>773.99</td>\n",
       "    </tr>\n",
       "    <tr>\n",
       "      <th>Relative Net Value</th>\n",
       "      <td>0.66</td>\n",
       "      <td>0.22</td>\n",
       "    </tr>\n",
       "  </tbody>\n",
       "</table>\n",
       "</div>"
      ],
      "text/plain": [
       "                       Mean  Standard Deviation\n",
       "(Macro) Precision      0.96                0.03\n",
       "(Macro) Recall         0.88                0.05\n",
       "(Macro) F1-Score       0.91                0.02\n",
       "Fraud Capture Rate     0.75                0.09\n",
       "Detection Rate         0.88                0.05\n",
       "Absolute Net Value  3523.65              773.99\n",
       "Relative Net Value     0.66                0.22"
      ]
     },
     "execution_count": 41,
     "metadata": {},
     "output_type": "execute_result"
    }
   ],
   "source": [
    "# For TOMEK'LINKS\n",
    "tomek = TomekLinks(sampling_strategy=\"auto\")\n",
    "tomek_model = FraudDetector().experiment_fit(X_train, y_train, sample_strategy=tomek)\n",
    "see_metrics(tomek_model)"
   ]
  },
  {
   "cell_type": "markdown",
   "id": "80eface4",
   "metadata": {},
   "source": [
    "### b. Class Weighting"
   ]
  },
  {
   "cell_type": "code",
   "execution_count": null,
   "id": "96f76fdd",
   "metadata": {
    "execution": {
     "iopub.execute_input": "2025-09-13T13:20:25.378719Z",
     "iopub.status.busy": "2025-09-13T13:20:25.378495Z",
     "iopub.status.idle": "2025-09-13T13:35:16.459356Z",
     "shell.execute_reply": "2025-09-13T13:35:16.457897Z",
     "shell.execute_reply.started": "2025-09-13T13:20:25.378697Z"
    }
   },
   "outputs": [
    {
     "name": "stdout",
     "output_type": "stream",
     "text": [
      "Fitting 5 folds for each of 1 candidates, totalling 5 fits\n"
     ]
    },
    {
     "data": {
      "text/html": [
       "<div>\n",
       "<style scoped>\n",
       "    .dataframe tbody tr th:only-of-type {\n",
       "        vertical-align: middle;\n",
       "    }\n",
       "\n",
       "    .dataframe tbody tr th {\n",
       "        vertical-align: top;\n",
       "    }\n",
       "\n",
       "    .dataframe thead th {\n",
       "        text-align: right;\n",
       "    }\n",
       "</style>\n",
       "<table border=\"1\" class=\"dataframe\">\n",
       "  <thead>\n",
       "    <tr style=\"text-align: right;\">\n",
       "      <th></th>\n",
       "      <th>Mean</th>\n",
       "      <th>Standard Deviation</th>\n",
       "    </tr>\n",
       "  </thead>\n",
       "  <tbody>\n",
       "    <tr>\n",
       "      <th>(Macro) Precision</th>\n",
       "      <td>0.98</td>\n",
       "      <td>0.02</td>\n",
       "    </tr>\n",
       "    <tr>\n",
       "      <th>(Macro) Recall</th>\n",
       "      <td>0.86</td>\n",
       "      <td>0.04</td>\n",
       "    </tr>\n",
       "    <tr>\n",
       "      <th>(Macro) F1-Score</th>\n",
       "      <td>0.91</td>\n",
       "      <td>0.03</td>\n",
       "    </tr>\n",
       "    <tr>\n",
       "      <th>Fraud Capture Rate</th>\n",
       "      <td>0.72</td>\n",
       "      <td>0.08</td>\n",
       "    </tr>\n",
       "    <tr>\n",
       "      <th>Detection Rate</th>\n",
       "      <td>0.86</td>\n",
       "      <td>0.04</td>\n",
       "    </tr>\n",
       "    <tr>\n",
       "      <th>Absolute Net Value</th>\n",
       "      <td>3185.91</td>\n",
       "      <td>885.30</td>\n",
       "    </tr>\n",
       "    <tr>\n",
       "      <th>Relative Net Value</th>\n",
       "      <td>0.60</td>\n",
       "      <td>0.24</td>\n",
       "    </tr>\n",
       "  </tbody>\n",
       "</table>\n",
       "</div>"
      ],
      "text/plain": [
       "                       Mean  Standard Deviation\n",
       "(Macro) Precision      0.98                0.02\n",
       "(Macro) Recall         0.86                0.04\n",
       "(Macro) F1-Score       0.91                0.03\n",
       "Fraud Capture Rate     0.72                0.08\n",
       "Detection Rate         0.86                0.04\n",
       "Absolute Net Value  3185.91              885.30\n",
       "Relative Net Value     0.60                0.24"
      ]
     },
     "execution_count": 42,
     "metadata": {},
     "output_type": "execute_result"
    }
   ],
   "source": [
    "# For Class Weighting\n",
    "random_seed = 92\n",
    "rus = RandomUnderSampler(random_state=random_seed)\n",
    "rus_model = FraudDetector().experiment_fit(X_train, y_train, sample_weight='balanced')\n",
    "see_metrics(rus_model)"
   ]
  },
  {
   "cell_type": "markdown",
   "id": "1af9cedc",
   "metadata": {},
   "source": [
    "### c. Hybrid Strategies to Experiment"
   ]
  },
  {
   "cell_type": "markdown",
   "id": "7879a96a",
   "metadata": {},
   "source": [
    "We found that random undersampling and SMOTE were the most effective techniques for addressing class imbalance. Building on this, we experimented with different sampling ratios, recognizing that a strict 1:1 balance between non-fraudulent and fraudulent cases was not always necessary. Instead, we explored less aggressive ratios to see if there is a better trade-off between recall and precision."
   ]
  },
  {
   "cell_type": "code",
   "execution_count": null,
   "id": "a2e46658",
   "metadata": {
    "execution": {
     "iopub.execute_input": "2025-09-13T13:35:16.460825Z",
     "iopub.status.busy": "2025-09-13T13:35:16.460564Z",
     "iopub.status.idle": "2025-09-13T13:35:25.736820Z",
     "shell.execute_reply": "2025-09-13T13:35:25.734872Z",
     "shell.execute_reply.started": "2025-09-13T13:35:16.460800Z"
    }
   },
   "outputs": [
    {
     "name": "stdout",
     "output_type": "stream",
     "text": [
      "Fitting 5 folds for each of 1 candidates, totalling 5 fits\n"
     ]
    },
    {
     "data": {
      "text/html": [
       "<div>\n",
       "<style scoped>\n",
       "    .dataframe tbody tr th:only-of-type {\n",
       "        vertical-align: middle;\n",
       "    }\n",
       "\n",
       "    .dataframe tbody tr th {\n",
       "        vertical-align: top;\n",
       "    }\n",
       "\n",
       "    .dataframe thead th {\n",
       "        text-align: right;\n",
       "    }\n",
       "</style>\n",
       "<table border=\"1\" class=\"dataframe\">\n",
       "  <thead>\n",
       "    <tr style=\"text-align: right;\">\n",
       "      <th></th>\n",
       "      <th>Mean</th>\n",
       "      <th>Standard Deviation</th>\n",
       "    </tr>\n",
       "  </thead>\n",
       "  <tbody>\n",
       "    <tr>\n",
       "      <th>(Macro) Precision</th>\n",
       "      <td>0.53</td>\n",
       "      <td>0.00</td>\n",
       "    </tr>\n",
       "    <tr>\n",
       "      <th>(Macro) Recall</th>\n",
       "      <td>0.93</td>\n",
       "      <td>0.01</td>\n",
       "    </tr>\n",
       "    <tr>\n",
       "      <th>(Macro) F1-Score</th>\n",
       "      <td>0.54</td>\n",
       "      <td>0.01</td>\n",
       "    </tr>\n",
       "    <tr>\n",
       "      <th>Fraud Capture Rate</th>\n",
       "      <td>0.89</td>\n",
       "      <td>0.02</td>\n",
       "    </tr>\n",
       "    <tr>\n",
       "      <th>Detection Rate</th>\n",
       "      <td>0.93</td>\n",
       "      <td>0.01</td>\n",
       "    </tr>\n",
       "    <tr>\n",
       "      <th>Absolute Net Value</th>\n",
       "      <td>4532.35</td>\n",
       "      <td>1066.38</td>\n",
       "    </tr>\n",
       "    <tr>\n",
       "      <th>Relative Net Value</th>\n",
       "      <td>0.82</td>\n",
       "      <td>0.20</td>\n",
       "    </tr>\n",
       "  </tbody>\n",
       "</table>\n",
       "</div>"
      ],
      "text/plain": [
       "                       Mean  Standard Deviation\n",
       "(Macro) Precision      0.53                0.00\n",
       "(Macro) Recall         0.93                0.01\n",
       "(Macro) F1-Score       0.54                0.01\n",
       "Fraud Capture Rate     0.89                0.02\n",
       "Detection Rate         0.93                0.01\n",
       "Absolute Net Value  4532.35             1066.38\n",
       "Relative Net Value     0.82                0.20"
      ]
     },
     "execution_count": 43,
     "metadata": {},
     "output_type": "execute_result"
    }
   ],
   "source": [
    "# For Random Undersampling WITH Class Weighting \n",
    "random_seed = 92\n",
    "rus_model = FraudDetector().experiment_fit(X_train, y_train, sample_strategy=rus, sample_weight='balanced')\n",
    "print('1:1 ratio of Fraud to Non-Fraud Cases. We just do class weighting.')\n",
    "see_metrics(rus_model)"
   ]
  },
  {
   "cell_type": "code",
   "execution_count": 18,
   "id": "b8e4c419-4b48-4af0-bc2d-24b8ac3fe406",
   "metadata": {
    "execution": {
     "iopub.execute_input": "2025-09-13T13:43:15.717678Z",
     "iopub.status.busy": "2025-09-13T13:43:15.716966Z",
     "iopub.status.idle": "2025-09-13T13:52:21.338601Z",
     "shell.execute_reply": "2025-09-13T13:52:21.337752Z",
     "shell.execute_reply.started": "2025-09-13T13:43:15.717621Z"
    }
   },
   "outputs": [
    {
     "name": "stdout",
     "output_type": "stream",
     "text": [
      "Fitting 5 folds for each of 1 candidates, totalling 5 fits\n",
      "90000 Generated Fraud Cases to 144119 Non-Fraud Cases\n"
     ]
    },
    {
     "data": {
      "text/html": [
       "<div>\n",
       "<style scoped>\n",
       "    .dataframe tbody tr th:only-of-type {\n",
       "        vertical-align: middle;\n",
       "    }\n",
       "\n",
       "    .dataframe tbody tr th {\n",
       "        vertical-align: top;\n",
       "    }\n",
       "\n",
       "    .dataframe thead th {\n",
       "        text-align: right;\n",
       "    }\n",
       "</style>\n",
       "<table border=\"1\" class=\"dataframe\">\n",
       "  <thead>\n",
       "    <tr style=\"text-align: right;\">\n",
       "      <th></th>\n",
       "      <th>Mean</th>\n",
       "      <th>Standard Deviation</th>\n",
       "    </tr>\n",
       "  </thead>\n",
       "  <tbody>\n",
       "    <tr>\n",
       "      <th>(Macro) Precision</th>\n",
       "      <td>0.96</td>\n",
       "      <td>0.03</td>\n",
       "    </tr>\n",
       "    <tr>\n",
       "      <th>(Macro) Recall</th>\n",
       "      <td>0.86</td>\n",
       "      <td>0.05</td>\n",
       "    </tr>\n",
       "    <tr>\n",
       "      <th>(Macro) F1-Score</th>\n",
       "      <td>0.90</td>\n",
       "      <td>0.03</td>\n",
       "    </tr>\n",
       "    <tr>\n",
       "      <th>Fraud Capture Rate</th>\n",
       "      <td>0.72</td>\n",
       "      <td>0.09</td>\n",
       "    </tr>\n",
       "    <tr>\n",
       "      <th>Detection Rate</th>\n",
       "      <td>0.86</td>\n",
       "      <td>0.05</td>\n",
       "    </tr>\n",
       "    <tr>\n",
       "      <th>Absolute Net Value</th>\n",
       "      <td>3473.89</td>\n",
       "      <td>727.15</td>\n",
       "    </tr>\n",
       "    <tr>\n",
       "      <th>Relative Net Value</th>\n",
       "      <td>0.65</td>\n",
       "      <td>0.21</td>\n",
       "    </tr>\n",
       "  </tbody>\n",
       "</table>\n",
       "</div>"
      ],
      "text/plain": [
       "                       Mean  Standard Deviation\n",
       "(Macro) Precision      0.96                0.03\n",
       "(Macro) Recall         0.86                0.05\n",
       "(Macro) F1-Score       0.90                0.03\n",
       "Fraud Capture Rate     0.72                0.09\n",
       "Detection Rate         0.86                0.05\n",
       "Absolute Net Value  3473.89              727.15\n",
       "Relative Net Value     0.65                0.21"
      ]
     },
     "execution_count": 18,
     "metadata": {},
     "output_type": "execute_result"
    }
   ],
   "source": [
    "# Actual class counts\n",
    "class_counts = y_train.value_counts()\n",
    "majority_count = class_counts.max()\n",
    "minority_count = class_counts.min()\n",
    "\n",
    "# Compute the ratio for RandomUnderSampler\n",
    "target_majority = 90000\n",
    "ratio = minority_count / target_majority\n",
    "\n",
    "# For (Less Harsh) Random Undersampling WITH Class Weighting \n",
    "rus_weighting = RandomUnderSampler(sampling_strategy=ratio, random_state=92)\n",
    "\n",
    "rus_weighting_model = FraudDetector().experiment_fit(\n",
    "    X_train,\n",
    "    y_train,\n",
    "    sample_strategy=rus_weighting,\n",
    "    sample_weight='balanced'\n",
    ")\n",
    "print(f'{target_majority} Generated Fraud Cases to {majority_count} Non-Fraud Cases')\n",
    "see_metrics(rus_weighting_model)"
   ]
  },
  {
   "cell_type": "code",
   "execution_count": null,
   "id": "eeba3c47-de2b-4c38-8a37-b26ab40b179d",
   "metadata": {
    "execution": {
     "iopub.execute_input": "2025-09-13T13:53:56.361441Z",
     "iopub.status.busy": "2025-09-13T13:53:56.360644Z",
     "iopub.status.idle": "2025-09-13T13:56:50.099563Z",
     "shell.execute_reply": "2025-09-13T13:56:50.098574Z",
     "shell.execute_reply.started": "2025-09-13T13:53:56.361381Z"
    }
   },
   "outputs": [
    {
     "name": "stdout",
     "output_type": "stream",
     "text": [
      "Fitting 5 folds for each of 1 candidates, totalling 5 fits\n"
     ]
    },
    {
     "data": {
      "text/html": [
       "<div>\n",
       "<style scoped>\n",
       "    .dataframe tbody tr th:only-of-type {\n",
       "        vertical-align: middle;\n",
       "    }\n",
       "\n",
       "    .dataframe tbody tr th {\n",
       "        vertical-align: top;\n",
       "    }\n",
       "\n",
       "    .dataframe thead th {\n",
       "        text-align: right;\n",
       "    }\n",
       "</style>\n",
       "<table border=\"1\" class=\"dataframe\">\n",
       "  <thead>\n",
       "    <tr style=\"text-align: right;\">\n",
       "      <th></th>\n",
       "      <th>Mean</th>\n",
       "      <th>Standard Deviation</th>\n",
       "    </tr>\n",
       "  </thead>\n",
       "  <tbody>\n",
       "    <tr>\n",
       "      <th>(Macro) Precision</th>\n",
       "      <td>0.93</td>\n",
       "      <td>0.03</td>\n",
       "    </tr>\n",
       "    <tr>\n",
       "      <th>(Macro) Recall</th>\n",
       "      <td>0.88</td>\n",
       "      <td>0.04</td>\n",
       "    </tr>\n",
       "    <tr>\n",
       "      <th>(Macro) F1-Score</th>\n",
       "      <td>0.90</td>\n",
       "      <td>0.02</td>\n",
       "    </tr>\n",
       "    <tr>\n",
       "      <th>Fraud Capture Rate</th>\n",
       "      <td>0.77</td>\n",
       "      <td>0.09</td>\n",
       "    </tr>\n",
       "    <tr>\n",
       "      <th>Detection Rate</th>\n",
       "      <td>0.88</td>\n",
       "      <td>0.04</td>\n",
       "    </tr>\n",
       "    <tr>\n",
       "      <th>Absolute Net Value</th>\n",
       "      <td>3623.74</td>\n",
       "      <td>805.21</td>\n",
       "    </tr>\n",
       "    <tr>\n",
       "      <th>Relative Net Value</th>\n",
       "      <td>0.67</td>\n",
       "      <td>0.22</td>\n",
       "    </tr>\n",
       "  </tbody>\n",
       "</table>\n",
       "</div>"
      ],
      "text/plain": [
       "                       Mean  Standard Deviation\n",
       "(Macro) Precision      0.93                0.03\n",
       "(Macro) Recall         0.88                0.04\n",
       "(Macro) F1-Score       0.90                0.02\n",
       "Fraud Capture Rate     0.77                0.09\n",
       "Detection Rate         0.88                0.04\n",
       "Absolute Net Value  3623.74              805.21\n",
       "Relative Net Value     0.67                0.22"
      ]
     },
     "execution_count": 49,
     "metadata": {},
     "output_type": "execute_result"
    }
   ],
   "source": [
    "# Actual class counts\n",
    "class_counts = y_train.value_counts()\n",
    "majority_count = class_counts.max()\n",
    "minority_count = class_counts.min()\n",
    "\n",
    "# Compute the ratio for RandomUnderSampler\n",
    "target_majority = 30000\n",
    "ratio = minority_count / target_majority\n",
    "\n",
    "# For (Less Harsh) Random Undersampling WITH Class Weighting \n",
    "rus_weighting = RandomUnderSampler(sampling_strategy=ratio, random_state=92)\n",
    "\n",
    "rus_weighting_model = FraudDetector().experiment_fit(\n",
    "    X_train,\n",
    "    y_train,\n",
    "    sample_strategy=rus_weighting,\n",
    "    sample_weight='balanced'\n",
    ")\n",
    "print(f'{target_majority} Generated Fraud Cases to {majority_count} Non-Fraud Cases')\n",
    "see_metrics(rus_weighting_model)"
   ]
  },
  {
   "cell_type": "code",
   "execution_count": 16,
   "id": "05248cc1",
   "metadata": {},
   "outputs": [
    {
     "name": "stdout",
     "output_type": "stream",
     "text": [
      "Fitting 5 folds for each of 1 candidates, totalling 5 fits\n"
     ]
    },
    {
     "ename": "KeyboardInterrupt",
     "evalue": "",
     "output_type": "error",
     "traceback": [
      "\u001b[0;31m---------------------------------------------------------------------------\u001b[0m",
      "\u001b[0;31mKeyboardInterrupt\u001b[0m                         Traceback (most recent call last)",
      "Cell \u001b[0;32mIn[16], line 7\u001b[0m\n\u001b[1;32m      4\u001b[0m \u001b[38;5;66;03m# For (Less Harsh) Random Undersampling WITH Class Weighting \u001b[39;00m\n\u001b[1;32m      5\u001b[0m smote_weighting \u001b[38;5;241m=\u001b[39m SMOTE(random_state\u001b[38;5;241m=\u001b[39mrandom_seed)\n\u001b[0;32m----> 7\u001b[0m smote_weighting_model \u001b[38;5;241m=\u001b[39m \u001b[43mFraudDetector\u001b[49m\u001b[43m(\u001b[49m\u001b[43m)\u001b[49m\u001b[38;5;241;43m.\u001b[39;49m\u001b[43mexperiment_fit\u001b[49m\u001b[43m(\u001b[49m\n\u001b[1;32m      8\u001b[0m \u001b[43m    \u001b[49m\u001b[43mX_train\u001b[49m\u001b[43m,\u001b[49m\n\u001b[1;32m      9\u001b[0m \u001b[43m    \u001b[49m\u001b[43my_train\u001b[49m\u001b[43m,\u001b[49m\n\u001b[1;32m     10\u001b[0m \u001b[43m    \u001b[49m\u001b[43msample_strategy\u001b[49m\u001b[38;5;241;43m=\u001b[39;49m\u001b[43msmote_weighting\u001b[49m\u001b[43m,\u001b[49m\n\u001b[1;32m     11\u001b[0m \u001b[43m    \u001b[49m\u001b[43msample_weight\u001b[49m\u001b[38;5;241;43m=\u001b[39;49m\u001b[38;5;124;43m'\u001b[39;49m\u001b[38;5;124;43mbalanced\u001b[39;49m\u001b[38;5;124;43m'\u001b[39;49m\n\u001b[1;32m     12\u001b[0m \u001b[43m)\u001b[49m\n\u001b[1;32m     13\u001b[0m see_metrics(smote_weighting_model)\n",
      "Cell \u001b[0;32mIn[2], line 114\u001b[0m, in \u001b[0;36mFraudDetector.experiment_fit\u001b[0;34m(self, X, y, sample_strategy, sample_weight)\u001b[0m\n\u001b[1;32m    100\u001b[0m     param_grid \u001b[38;5;241m=\u001b[39m {\n\u001b[1;32m    101\u001b[0m         \u001b[38;5;124m\"\u001b[39m\u001b[38;5;124mclf__n_estimators\u001b[39m\u001b[38;5;124m\"\u001b[39m: [\u001b[38;5;241m500\u001b[39m],\n\u001b[1;32m    102\u001b[0m     }\n\u001b[1;32m    104\u001b[0m search \u001b[38;5;241m=\u001b[39m GridSearchCV(\n\u001b[1;32m    105\u001b[0m     estimator\u001b[38;5;241m=\u001b[39mpipeline,\n\u001b[1;32m    106\u001b[0m     scoring\u001b[38;5;241m=\u001b[39mscorers,\n\u001b[0;32m   (...)\u001b[0m\n\u001b[1;32m    111\u001b[0m     verbose\u001b[38;5;241m=\u001b[39m\u001b[38;5;241m1\u001b[39m\n\u001b[1;32m    112\u001b[0m )\n\u001b[0;32m--> 114\u001b[0m \u001b[43msearch\u001b[49m\u001b[38;5;241;43m.\u001b[39;49m\u001b[43mfit\u001b[49m\u001b[43m(\u001b[49m\u001b[43mX\u001b[49m\u001b[43m,\u001b[49m\u001b[43m \u001b[49m\u001b[43my\u001b[49m\u001b[43m)\u001b[49m\n\u001b[1;32m    116\u001b[0m \u001b[38;5;28;01mreturn\u001b[39;00m search\u001b[38;5;241m.\u001b[39mcv_results_\n",
      "File \u001b[0;32m/Library/Frameworks/Python.framework/Versions/3.11/lib/python3.11/site-packages/sklearn/base.py:1389\u001b[0m, in \u001b[0;36m_fit_context.<locals>.decorator.<locals>.wrapper\u001b[0;34m(estimator, *args, **kwargs)\u001b[0m\n\u001b[1;32m   1382\u001b[0m     estimator\u001b[38;5;241m.\u001b[39m_validate_params()\n\u001b[1;32m   1384\u001b[0m \u001b[38;5;28;01mwith\u001b[39;00m config_context(\n\u001b[1;32m   1385\u001b[0m     skip_parameter_validation\u001b[38;5;241m=\u001b[39m(\n\u001b[1;32m   1386\u001b[0m         prefer_skip_nested_validation \u001b[38;5;129;01mor\u001b[39;00m global_skip_validation\n\u001b[1;32m   1387\u001b[0m     )\n\u001b[1;32m   1388\u001b[0m ):\n\u001b[0;32m-> 1389\u001b[0m     \u001b[38;5;28;01mreturn\u001b[39;00m \u001b[43mfit_method\u001b[49m\u001b[43m(\u001b[49m\u001b[43mestimator\u001b[49m\u001b[43m,\u001b[49m\u001b[43m \u001b[49m\u001b[38;5;241;43m*\u001b[39;49m\u001b[43margs\u001b[49m\u001b[43m,\u001b[49m\u001b[43m \u001b[49m\u001b[38;5;241;43m*\u001b[39;49m\u001b[38;5;241;43m*\u001b[39;49m\u001b[43mkwargs\u001b[49m\u001b[43m)\u001b[49m\n",
      "File \u001b[0;32m/Library/Frameworks/Python.framework/Versions/3.11/lib/python3.11/site-packages/sklearn/model_selection/_search.py:1024\u001b[0m, in \u001b[0;36mBaseSearchCV.fit\u001b[0;34m(self, X, y, **params)\u001b[0m\n\u001b[1;32m   1018\u001b[0m     results \u001b[38;5;241m=\u001b[39m \u001b[38;5;28mself\u001b[39m\u001b[38;5;241m.\u001b[39m_format_results(\n\u001b[1;32m   1019\u001b[0m         all_candidate_params, n_splits, all_out, all_more_results\n\u001b[1;32m   1020\u001b[0m     )\n\u001b[1;32m   1022\u001b[0m     \u001b[38;5;28;01mreturn\u001b[39;00m results\n\u001b[0;32m-> 1024\u001b[0m \u001b[38;5;28;43mself\u001b[39;49m\u001b[38;5;241;43m.\u001b[39;49m\u001b[43m_run_search\u001b[49m\u001b[43m(\u001b[49m\u001b[43mevaluate_candidates\u001b[49m\u001b[43m)\u001b[49m\n\u001b[1;32m   1026\u001b[0m \u001b[38;5;66;03m# multimetric is determined here because in the case of a callable\u001b[39;00m\n\u001b[1;32m   1027\u001b[0m \u001b[38;5;66;03m# self.scoring the return type is only known after calling\u001b[39;00m\n\u001b[1;32m   1028\u001b[0m first_test_score \u001b[38;5;241m=\u001b[39m all_out[\u001b[38;5;241m0\u001b[39m][\u001b[38;5;124m\"\u001b[39m\u001b[38;5;124mtest_scores\u001b[39m\u001b[38;5;124m\"\u001b[39m]\n",
      "File \u001b[0;32m/Library/Frameworks/Python.framework/Versions/3.11/lib/python3.11/site-packages/sklearn/model_selection/_search.py:1571\u001b[0m, in \u001b[0;36mGridSearchCV._run_search\u001b[0;34m(self, evaluate_candidates)\u001b[0m\n\u001b[1;32m   1569\u001b[0m \u001b[38;5;28;01mdef\u001b[39;00m \u001b[38;5;21m_run_search\u001b[39m(\u001b[38;5;28mself\u001b[39m, evaluate_candidates):\n\u001b[1;32m   1570\u001b[0m \u001b[38;5;250m    \u001b[39m\u001b[38;5;124;03m\"\"\"Search all candidates in param_grid\"\"\"\u001b[39;00m\n\u001b[0;32m-> 1571\u001b[0m     \u001b[43mevaluate_candidates\u001b[49m\u001b[43m(\u001b[49m\u001b[43mParameterGrid\u001b[49m\u001b[43m(\u001b[49m\u001b[38;5;28;43mself\u001b[39;49m\u001b[38;5;241;43m.\u001b[39;49m\u001b[43mparam_grid\u001b[49m\u001b[43m)\u001b[49m\u001b[43m)\u001b[49m\n",
      "File \u001b[0;32m/Library/Frameworks/Python.framework/Versions/3.11/lib/python3.11/site-packages/sklearn/model_selection/_search.py:970\u001b[0m, in \u001b[0;36mBaseSearchCV.fit.<locals>.evaluate_candidates\u001b[0;34m(candidate_params, cv, more_results)\u001b[0m\n\u001b[1;32m    962\u001b[0m \u001b[38;5;28;01mif\u001b[39;00m \u001b[38;5;28mself\u001b[39m\u001b[38;5;241m.\u001b[39mverbose \u001b[38;5;241m>\u001b[39m \u001b[38;5;241m0\u001b[39m:\n\u001b[1;32m    963\u001b[0m     \u001b[38;5;28mprint\u001b[39m(\n\u001b[1;32m    964\u001b[0m         \u001b[38;5;124m\"\u001b[39m\u001b[38;5;124mFitting \u001b[39m\u001b[38;5;132;01m{0}\u001b[39;00m\u001b[38;5;124m folds for each of \u001b[39m\u001b[38;5;132;01m{1}\u001b[39;00m\u001b[38;5;124m candidates,\u001b[39m\u001b[38;5;124m\"\u001b[39m\n\u001b[1;32m    965\u001b[0m         \u001b[38;5;124m\"\u001b[39m\u001b[38;5;124m totalling \u001b[39m\u001b[38;5;132;01m{2}\u001b[39;00m\u001b[38;5;124m fits\u001b[39m\u001b[38;5;124m\"\u001b[39m\u001b[38;5;241m.\u001b[39mformat(\n\u001b[1;32m    966\u001b[0m             n_splits, n_candidates, n_candidates \u001b[38;5;241m*\u001b[39m n_splits\n\u001b[1;32m    967\u001b[0m         )\n\u001b[1;32m    968\u001b[0m     )\n\u001b[0;32m--> 970\u001b[0m out \u001b[38;5;241m=\u001b[39m \u001b[43mparallel\u001b[49m\u001b[43m(\u001b[49m\n\u001b[1;32m    971\u001b[0m \u001b[43m    \u001b[49m\u001b[43mdelayed\u001b[49m\u001b[43m(\u001b[49m\u001b[43m_fit_and_score\u001b[49m\u001b[43m)\u001b[49m\u001b[43m(\u001b[49m\n\u001b[1;32m    972\u001b[0m \u001b[43m        \u001b[49m\u001b[43mclone\u001b[49m\u001b[43m(\u001b[49m\u001b[43mbase_estimator\u001b[49m\u001b[43m)\u001b[49m\u001b[43m,\u001b[49m\n\u001b[1;32m    973\u001b[0m \u001b[43m        \u001b[49m\u001b[43mX\u001b[49m\u001b[43m,\u001b[49m\n\u001b[1;32m    974\u001b[0m \u001b[43m        \u001b[49m\u001b[43my\u001b[49m\u001b[43m,\u001b[49m\n\u001b[1;32m    975\u001b[0m \u001b[43m        \u001b[49m\u001b[43mtrain\u001b[49m\u001b[38;5;241;43m=\u001b[39;49m\u001b[43mtrain\u001b[49m\u001b[43m,\u001b[49m\n\u001b[1;32m    976\u001b[0m \u001b[43m        \u001b[49m\u001b[43mtest\u001b[49m\u001b[38;5;241;43m=\u001b[39;49m\u001b[43mtest\u001b[49m\u001b[43m,\u001b[49m\n\u001b[1;32m    977\u001b[0m \u001b[43m        \u001b[49m\u001b[43mparameters\u001b[49m\u001b[38;5;241;43m=\u001b[39;49m\u001b[43mparameters\u001b[49m\u001b[43m,\u001b[49m\n\u001b[1;32m    978\u001b[0m \u001b[43m        \u001b[49m\u001b[43msplit_progress\u001b[49m\u001b[38;5;241;43m=\u001b[39;49m\u001b[43m(\u001b[49m\u001b[43msplit_idx\u001b[49m\u001b[43m,\u001b[49m\u001b[43m \u001b[49m\u001b[43mn_splits\u001b[49m\u001b[43m)\u001b[49m\u001b[43m,\u001b[49m\n\u001b[1;32m    979\u001b[0m \u001b[43m        \u001b[49m\u001b[43mcandidate_progress\u001b[49m\u001b[38;5;241;43m=\u001b[39;49m\u001b[43m(\u001b[49m\u001b[43mcand_idx\u001b[49m\u001b[43m,\u001b[49m\u001b[43m \u001b[49m\u001b[43mn_candidates\u001b[49m\u001b[43m)\u001b[49m\u001b[43m,\u001b[49m\n\u001b[1;32m    980\u001b[0m \u001b[43m        \u001b[49m\u001b[38;5;241;43m*\u001b[39;49m\u001b[38;5;241;43m*\u001b[39;49m\u001b[43mfit_and_score_kwargs\u001b[49m\u001b[43m,\u001b[49m\n\u001b[1;32m    981\u001b[0m \u001b[43m    \u001b[49m\u001b[43m)\u001b[49m\n\u001b[1;32m    982\u001b[0m \u001b[43m    \u001b[49m\u001b[38;5;28;43;01mfor\u001b[39;49;00m\u001b[43m \u001b[49m\u001b[43m(\u001b[49m\u001b[43mcand_idx\u001b[49m\u001b[43m,\u001b[49m\u001b[43m \u001b[49m\u001b[43mparameters\u001b[49m\u001b[43m)\u001b[49m\u001b[43m,\u001b[49m\u001b[43m \u001b[49m\u001b[43m(\u001b[49m\u001b[43msplit_idx\u001b[49m\u001b[43m,\u001b[49m\u001b[43m \u001b[49m\u001b[43m(\u001b[49m\u001b[43mtrain\u001b[49m\u001b[43m,\u001b[49m\u001b[43m \u001b[49m\u001b[43mtest\u001b[49m\u001b[43m)\u001b[49m\u001b[43m)\u001b[49m\u001b[43m \u001b[49m\u001b[38;5;129;43;01min\u001b[39;49;00m\u001b[43m \u001b[49m\u001b[43mproduct\u001b[49m\u001b[43m(\u001b[49m\n\u001b[1;32m    983\u001b[0m \u001b[43m        \u001b[49m\u001b[38;5;28;43menumerate\u001b[39;49m\u001b[43m(\u001b[49m\u001b[43mcandidate_params\u001b[49m\u001b[43m)\u001b[49m\u001b[43m,\u001b[49m\n\u001b[1;32m    984\u001b[0m \u001b[43m        \u001b[49m\u001b[38;5;28;43menumerate\u001b[39;49m\u001b[43m(\u001b[49m\u001b[43mcv\u001b[49m\u001b[38;5;241;43m.\u001b[39;49m\u001b[43msplit\u001b[49m\u001b[43m(\u001b[49m\u001b[43mX\u001b[49m\u001b[43m,\u001b[49m\u001b[43m \u001b[49m\u001b[43my\u001b[49m\u001b[43m,\u001b[49m\u001b[43m \u001b[49m\u001b[38;5;241;43m*\u001b[39;49m\u001b[38;5;241;43m*\u001b[39;49m\u001b[43mrouted_params\u001b[49m\u001b[38;5;241;43m.\u001b[39;49m\u001b[43msplitter\u001b[49m\u001b[38;5;241;43m.\u001b[39;49m\u001b[43msplit\u001b[49m\u001b[43m)\u001b[49m\u001b[43m)\u001b[49m\u001b[43m,\u001b[49m\n\u001b[1;32m    985\u001b[0m \u001b[43m    \u001b[49m\u001b[43m)\u001b[49m\n\u001b[1;32m    986\u001b[0m \u001b[43m\u001b[49m\u001b[43m)\u001b[49m\n\u001b[1;32m    988\u001b[0m \u001b[38;5;28;01mif\u001b[39;00m \u001b[38;5;28mlen\u001b[39m(out) \u001b[38;5;241m<\u001b[39m \u001b[38;5;241m1\u001b[39m:\n\u001b[1;32m    989\u001b[0m     \u001b[38;5;28;01mraise\u001b[39;00m \u001b[38;5;167;01mValueError\u001b[39;00m(\n\u001b[1;32m    990\u001b[0m         \u001b[38;5;124m\"\u001b[39m\u001b[38;5;124mNo fits were performed. \u001b[39m\u001b[38;5;124m\"\u001b[39m\n\u001b[1;32m    991\u001b[0m         \u001b[38;5;124m\"\u001b[39m\u001b[38;5;124mWas the CV iterator empty? \u001b[39m\u001b[38;5;124m\"\u001b[39m\n\u001b[1;32m    992\u001b[0m         \u001b[38;5;124m\"\u001b[39m\u001b[38;5;124mWere there no candidates?\u001b[39m\u001b[38;5;124m\"\u001b[39m\n\u001b[1;32m    993\u001b[0m     )\n",
      "File \u001b[0;32m/Library/Frameworks/Python.framework/Versions/3.11/lib/python3.11/site-packages/sklearn/utils/parallel.py:77\u001b[0m, in \u001b[0;36mParallel.__call__\u001b[0;34m(self, iterable)\u001b[0m\n\u001b[1;32m     72\u001b[0m config \u001b[38;5;241m=\u001b[39m get_config()\n\u001b[1;32m     73\u001b[0m iterable_with_config \u001b[38;5;241m=\u001b[39m (\n\u001b[1;32m     74\u001b[0m     (_with_config(delayed_func, config), args, kwargs)\n\u001b[1;32m     75\u001b[0m     \u001b[38;5;28;01mfor\u001b[39;00m delayed_func, args, kwargs \u001b[38;5;129;01min\u001b[39;00m iterable\n\u001b[1;32m     76\u001b[0m )\n\u001b[0;32m---> 77\u001b[0m \u001b[38;5;28;01mreturn\u001b[39;00m \u001b[38;5;28;43msuper\u001b[39;49m\u001b[43m(\u001b[49m\u001b[43m)\u001b[49m\u001b[38;5;241;43m.\u001b[39;49m\u001b[38;5;21;43m__call__\u001b[39;49m\u001b[43m(\u001b[49m\u001b[43miterable_with_config\u001b[49m\u001b[43m)\u001b[49m\n",
      "File \u001b[0;32m/Library/Frameworks/Python.framework/Versions/3.11/lib/python3.11/site-packages/joblib/parallel.py:2007\u001b[0m, in \u001b[0;36mParallel.__call__\u001b[0;34m(self, iterable)\u001b[0m\n\u001b[1;32m   2001\u001b[0m \u001b[38;5;66;03m# The first item from the output is blank, but it makes the interpreter\u001b[39;00m\n\u001b[1;32m   2002\u001b[0m \u001b[38;5;66;03m# progress until it enters the Try/Except block of the generator and\u001b[39;00m\n\u001b[1;32m   2003\u001b[0m \u001b[38;5;66;03m# reaches the first `yield` statement. This starts the asynchronous\u001b[39;00m\n\u001b[1;32m   2004\u001b[0m \u001b[38;5;66;03m# dispatch of the tasks to the workers.\u001b[39;00m\n\u001b[1;32m   2005\u001b[0m \u001b[38;5;28mnext\u001b[39m(output)\n\u001b[0;32m-> 2007\u001b[0m \u001b[38;5;28;01mreturn\u001b[39;00m output \u001b[38;5;28;01mif\u001b[39;00m \u001b[38;5;28mself\u001b[39m\u001b[38;5;241m.\u001b[39mreturn_generator \u001b[38;5;28;01melse\u001b[39;00m \u001b[38;5;28;43mlist\u001b[39;49m\u001b[43m(\u001b[49m\u001b[43moutput\u001b[49m\u001b[43m)\u001b[49m\n",
      "File \u001b[0;32m/Library/Frameworks/Python.framework/Versions/3.11/lib/python3.11/site-packages/joblib/parallel.py:1650\u001b[0m, in \u001b[0;36mParallel._get_outputs\u001b[0;34m(self, iterator, pre_dispatch)\u001b[0m\n\u001b[1;32m   1647\u001b[0m     \u001b[38;5;28;01myield\u001b[39;00m\n\u001b[1;32m   1649\u001b[0m     \u001b[38;5;28;01mwith\u001b[39;00m \u001b[38;5;28mself\u001b[39m\u001b[38;5;241m.\u001b[39m_backend\u001b[38;5;241m.\u001b[39mretrieval_context():\n\u001b[0;32m-> 1650\u001b[0m         \u001b[38;5;28;01myield from\u001b[39;00m \u001b[38;5;28mself\u001b[39m\u001b[38;5;241m.\u001b[39m_retrieve()\n\u001b[1;32m   1652\u001b[0m \u001b[38;5;28;01mexcept\u001b[39;00m \u001b[38;5;167;01mGeneratorExit\u001b[39;00m:\n\u001b[1;32m   1653\u001b[0m     \u001b[38;5;66;03m# The generator has been garbage collected before being fully\u001b[39;00m\n\u001b[1;32m   1654\u001b[0m     \u001b[38;5;66;03m# consumed. This aborts the remaining tasks if possible and warn\u001b[39;00m\n\u001b[1;32m   1655\u001b[0m     \u001b[38;5;66;03m# the user if necessary.\u001b[39;00m\n\u001b[1;32m   1656\u001b[0m     \u001b[38;5;28mself\u001b[39m\u001b[38;5;241m.\u001b[39m_exception \u001b[38;5;241m=\u001b[39m \u001b[38;5;28;01mTrue\u001b[39;00m\n",
      "File \u001b[0;32m/Library/Frameworks/Python.framework/Versions/3.11/lib/python3.11/site-packages/joblib/parallel.py:1762\u001b[0m, in \u001b[0;36mParallel._retrieve\u001b[0;34m(self)\u001b[0m\n\u001b[1;32m   1757\u001b[0m \u001b[38;5;66;03m# If the next job is not ready for retrieval yet, we just wait for\u001b[39;00m\n\u001b[1;32m   1758\u001b[0m \u001b[38;5;66;03m# async callbacks to progress.\u001b[39;00m\n\u001b[1;32m   1759\u001b[0m \u001b[38;5;28;01mif\u001b[39;00m ((\u001b[38;5;28mlen\u001b[39m(\u001b[38;5;28mself\u001b[39m\u001b[38;5;241m.\u001b[39m_jobs) \u001b[38;5;241m==\u001b[39m \u001b[38;5;241m0\u001b[39m) \u001b[38;5;129;01mor\u001b[39;00m\n\u001b[1;32m   1760\u001b[0m     (\u001b[38;5;28mself\u001b[39m\u001b[38;5;241m.\u001b[39m_jobs[\u001b[38;5;241m0\u001b[39m]\u001b[38;5;241m.\u001b[39mget_status(\n\u001b[1;32m   1761\u001b[0m         timeout\u001b[38;5;241m=\u001b[39m\u001b[38;5;28mself\u001b[39m\u001b[38;5;241m.\u001b[39mtimeout) \u001b[38;5;241m==\u001b[39m TASK_PENDING)):\n\u001b[0;32m-> 1762\u001b[0m     time\u001b[38;5;241m.\u001b[39msleep(\u001b[38;5;241m0.01\u001b[39m)\n\u001b[1;32m   1763\u001b[0m     \u001b[38;5;28;01mcontinue\u001b[39;00m\n\u001b[1;32m   1765\u001b[0m \u001b[38;5;66;03m# We need to be careful: the job list can be filling up as\u001b[39;00m\n\u001b[1;32m   1766\u001b[0m \u001b[38;5;66;03m# we empty it and Python list are not thread-safe by\u001b[39;00m\n\u001b[1;32m   1767\u001b[0m \u001b[38;5;66;03m# default hence the use of the lock\u001b[39;00m\n",
      "\u001b[0;31mKeyboardInterrupt\u001b[0m: "
     ]
    }
   ],
   "source": [
    "# For Random Undersampling WITH Class Weighting \n",
    "smote_weighting = SMOTE(random_state=random_seed)\n",
    "\n",
    "smote_weighting_model = FraudDetector().experiment_fit(\n",
    "    X_train,\n",
    "    y_train,\n",
    "    sample_strategy=smote_weighting,\n",
    "    sample_weight='balanced'\n",
    ")\n",
    "print('1:1 ratio of Fraud to Non-Fraud Cases. We just do class weighting.')\n",
    "see_metrics(smote_weighting_model)"
   ]
  },
  {
   "cell_type": "code",
   "execution_count": null,
   "id": "204355b7",
   "metadata": {},
   "outputs": [
    {
     "name": "stdout",
     "output_type": "stream",
     "text": [
      "Fitting 5 folds for each of 1 candidates, totalling 5 fits\n"
     ]
    },
    {
     "data": {
      "text/html": [
       "<div>\n",
       "<style scoped>\n",
       "    .dataframe tbody tr th:only-of-type {\n",
       "        vertical-align: middle;\n",
       "    }\n",
       "\n",
       "    .dataframe tbody tr th {\n",
       "        vertical-align: top;\n",
       "    }\n",
       "\n",
       "    .dataframe thead th {\n",
       "        text-align: right;\n",
       "    }\n",
       "</style>\n",
       "<table border=\"1\" class=\"dataframe\">\n",
       "  <thead>\n",
       "    <tr style=\"text-align: right;\">\n",
       "      <th></th>\n",
       "      <th>Mean</th>\n",
       "      <th>Standard Deviation</th>\n",
       "    </tr>\n",
       "  </thead>\n",
       "  <tbody>\n",
       "    <tr>\n",
       "      <th>(Macro) Precision</th>\n",
       "      <td>0.96</td>\n",
       "      <td>0.02</td>\n",
       "    </tr>\n",
       "    <tr>\n",
       "      <th>(Macro) Recall</th>\n",
       "      <td>0.88</td>\n",
       "      <td>0.05</td>\n",
       "    </tr>\n",
       "    <tr>\n",
       "      <th>(Macro) F1-Score</th>\n",
       "      <td>0.91</td>\n",
       "      <td>0.03</td>\n",
       "    </tr>\n",
       "    <tr>\n",
       "      <th>Fraud Capture Rate</th>\n",
       "      <td>0.75</td>\n",
       "      <td>0.10</td>\n",
       "    </tr>\n",
       "    <tr>\n",
       "      <th>Detection Rate</th>\n",
       "      <td>0.88</td>\n",
       "      <td>0.05</td>\n",
       "    </tr>\n",
       "    <tr>\n",
       "      <th>Absolute Net Value</th>\n",
       "      <td>3538.32</td>\n",
       "      <td>820.23</td>\n",
       "    </tr>\n",
       "    <tr>\n",
       "      <th>Relative Net Value</th>\n",
       "      <td>0.66</td>\n",
       "      <td>0.22</td>\n",
       "    </tr>\n",
       "  </tbody>\n",
       "</table>\n",
       "</div>"
      ],
      "text/plain": [
       "                       Mean  Standard Deviation\n",
       "(Macro) Precision      0.96                0.02\n",
       "(Macro) Recall         0.88                0.05\n",
       "(Macro) F1-Score       0.91                0.03\n",
       "Fraud Capture Rate     0.75                0.10\n",
       "Detection Rate         0.88                0.05\n",
       "Absolute Net Value  3538.32              820.23\n",
       "Relative Net Value     0.66                0.22"
      ]
     },
     "execution_count": 15,
     "metadata": {},
     "output_type": "execute_result"
    }
   ],
   "source": [
    "# Actual class counts\n",
    "random_seed = 92\n",
    "class_counts = y_train.value_counts()\n",
    "majority_count = class_counts.max()\n",
    "minority_count = class_counts.min()\n",
    "\n",
    "# Compute the ratio for RandomUnderSampler\n",
    "target_majority = 30000\n",
    "ratio = minority_count / target_majority\n",
    "\n",
    "# For (Less Harsh) Random Undersampling WITH Class Weighting \n",
    "smote_weighting = SMOTE(sampling_strategy=ratio, random_state=random_seed)\n",
    "\n",
    "smote_weighting_model = FraudDetector().experiment_fit(\n",
    "    X_train,\n",
    "    y_train,\n",
    "    sample_strategy=smote_weighting,\n",
    "    sample_weight='balanced'\n",
    ")\n",
    "print(f'{target_majority} Generated Fraud Cases to {majority_count} Non-Fraud Cases')\n",
    "see_metrics(smote_weighting_model)"
   ]
  },
  {
   "cell_type": "markdown",
   "id": "1db06ba8-a32b-4a2c-8667-a6d81479053f",
   "metadata": {},
   "source": [
    "# Modeling"
   ]
  },
  {
   "cell_type": "markdown",
   "id": "35f7c34e-339c-4a6d-8154-e80cae6e5155",
   "metadata": {},
   "source": [
    "# Using Test.csv"
   ]
  },
  {
   "cell_type": "markdown",
   "id": "2dbd5d6f-16ce-4f6d-a25c-7e26217f954d",
   "metadata": {},
   "source": [
    "Please use the test.csv file and include the output based on our model and export it in a csv file"
   ]
  }
 ],
 "metadata": {
  "kernelspec": {
   "display_name": "Python 3",
   "language": "python",
   "name": "python3"
  },
  "language_info": {
   "codemirror_mode": {
    "name": "ipython",
    "version": 3
   },
   "file_extension": ".py",
   "mimetype": "text/x-python",
   "name": "python",
   "nbconvert_exporter": "python",
   "pygments_lexer": "ipython3",
   "version": "3.11.5"
  }
 },
 "nbformat": 4,
 "nbformat_minor": 5
}
